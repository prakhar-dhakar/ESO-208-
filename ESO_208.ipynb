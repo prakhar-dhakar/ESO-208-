{
  "nbformat": 4,
  "nbformat_minor": 0,
  "metadata": {
    "colab": {
      "name": "ESO 208.ipynb",
      "private_outputs": true,
      "provenance": [],
      "collapsed_sections": [],
      "toc_visible": true
    },
    "kernelspec": {
      "name": "python3",
      "display_name": "Python 3"
    }
  },
  "cells": [
    {
      "cell_type": "code",
      "metadata": {
        "id": "QbXNV9O2uSgH"
      },
      "source": [
        "import numpy as np"
      ],
      "execution_count": null,
      "outputs": []
    },
    {
      "cell_type": "code",
      "metadata": {
        "id": "4lO0voFjt_8y"
      },
      "source": [
        "def func(x):\n",
        "    return 8*np.exp(-x)*np.sin(x) -1\n",
        "\n",
        "true_value = 1.93375496\n",
        "stopping_criteria = 0.01"
      ],
      "execution_count": null,
      "outputs": []
    },
    {
      "cell_type": "markdown",
      "metadata": {
        "id": "G1YYeLiVuDNO"
      },
      "source": [
        "## Bisection Method"
      ]
    },
    {
      "cell_type": "code",
      "metadata": {
        "id": "QODMj4fBuFsk"
      },
      "source": [
        "a = 1.0\n",
        "b = 2.0\n",
        "\n",
        "prev_mid = 0.0\n",
        "iterations = 0\n",
        "print(\"Iteration \"+str(iterations) + \"\\t\" + \"a:\" + str(a) +\"\\t\" +\"b:\"+str(b))\n",
        "while True:\n",
        "    if func(a)*func(b)<0:\n",
        "        iterations+=1\n",
        "        mid = (a+b)/2\n",
        "        value = func(mid)\n",
        "        if iterations ==1:\n",
        "            print(\"Iteration:1\")       \n",
        "            print(\"Func(a) = \" + str(func(a)))\n",
        "            print(\"Func(b) = \" + str(func(b)))\n",
        "            print(\"Mid = \" + str(mid))\n",
        "            print(\"Func(mid) = \" + str(value))\n",
        "            print(\"\\n\")\n",
        "            \n",
        "        if value == 0.0:\n",
        "            print(\"root found\"+ str(mid))\n",
        "            break\n",
        "        true_error = np.abs((true_value-mid)/true_value)*100\n",
        "        rel_error = np.abs((prev_mid-mid)/mid)*100\n",
        "        prev_mid = mid\n",
        "        if func(a)*func(mid)<0:\n",
        "            b = mid\n",
        "        else:\n",
        "            a = mid        \n",
        "        print(\"Iteration:\"+str(iterations) + \"\\t\" +\"Function_Value:\"+str(value) + \"\\t\" + \"a:\" + str(a) +\"\\t\" +\"b:\"+str(b) + \"\\t\" +\"true error:\" + str(true_error) + \"\\t\" +\"Rel error:\"+str(rel_error))\n",
        "        if rel_error<stopping_criteria:\n",
        "            break\n"
      ],
      "execution_count": null,
      "outputs": []
    },
    {
      "cell_type": "markdown",
      "metadata": {
        "id": "LMzmrA312nyT"
      },
      "source": [
        "## Regular Falsi"
      ]
    },
    {
      "cell_type": "code",
      "metadata": {
        "id": "XKdrb3Oey1hx"
      },
      "source": [
        "a = 1.0\n",
        "b = 2.0\n",
        "\n",
        "prev_mid = 0.0\n",
        "iterations = 0\n",
        "print(\"Iteration \"+str(iterations) + \"\\t\" + \"a:\" + str(a) +\"\\t\" +\"b:\"+str(b))\n",
        "while True:\n",
        "    if func(a)*func(b)<0:\n",
        "        iterations+=1\n",
        "        mid = a - (b-a)*func(a)/(func(b)-func(a))\n",
        "        value = func(mid)\n",
        "        if iterations ==1:\n",
        "            print(\"Iteration:1\")       \n",
        "            print(\"Func(a) = \" + str(func(a)))\n",
        "            print(\"Func(b) = \" + str(func(b)))\n",
        "            print(\"Mid = \" + str(mid))\n",
        "            print(\"Func(mid) = \" + str(value))\n",
        "            print(\"\\n\")\n",
        "\n",
        "        if value == 0.0:\n",
        "            print(\"root found\"+ str(mid))\n",
        "            break\n",
        "        true_error = np.abs((true_value-mid)/true_value)*100\n",
        "        rel_error = np.abs((prev_mid-mid)/mid)*100\n",
        "        prev_mid = mid\n",
        "        if func(a)*func(mid)<0:\n",
        "            b = mid\n",
        "        else:\n",
        "            a = mid \n",
        "        \n",
        "        print(\"Iteration:\"+str(iterations) + \"\\t\" +\"Function_Value:\"+str(value) + \"\\t\" + \"a:\" + str(a) +\"\\t\" +\"b:\"+str(b) + \"\\t\" +\"true error:\" + str(true_error) + \"\\t\" +\"Rel error:\"+str(rel_error))\n",
        "        if rel_error<stopping_criteria:\n",
        "            break\n"
      ],
      "execution_count": null,
      "outputs": []
    },
    {
      "cell_type": "code",
      "metadata": {
        "id": "ue7X62wA3HFZ"
      },
      "source": [
        ""
      ],
      "execution_count": null,
      "outputs": []
    },
    {
      "cell_type": "markdown",
      "metadata": {
        "id": "MAP_Toc14fu6"
      },
      "source": [
        "## Fixed Point"
      ]
    },
    {
      "cell_type": "code",
      "metadata": {
        "id": "QleGvCUg4h3d"
      },
      "source": [
        "def gofx(x):\n",
        "    return 2*np.sin(x)**0.5"
      ],
      "execution_count": null,
      "outputs": []
    },
    {
      "cell_type": "code",
      "metadata": {
        "id": "7tnbFsY-4x0X"
      },
      "source": [
        "xold = 1.0\n",
        "\n",
        "iterations=0\n",
        "print(\"Iteration:\"+str(iterations) + \"\\t\" +\"X:\"+str(xold) + \"\\t\"+\"Function_Value:\"+str(gofx(xold)) + \"\\t\" )\n",
        "while True:\n",
        "    xnew = gofx(xold)\n",
        "    rel_error = np.abs((xnew-xold)/xnew)*100\n",
        "    true_error = np.abs((true_value-xnew)/true_value)*100\n",
        "    xold = xnew\n",
        "    iterations+=1\n",
        "    print(\"Iteration:\"+str(iterations) + \"\\t\" +\"X:\"+str(xold) + \"\\t\"+\"Function_Value:\"+str(xnew) + \"\\t\" +\"true error:\" + str(true_error) + \"\\t\\t\" +\"Rel error:\"+str(rel_error))\n",
        "    if rel_error<stopping_criteria:\n",
        "            break\n",
        "    if iterations > 30:\n",
        "        break\n"
      ],
      "execution_count": null,
      "outputs": []
    },
    {
      "cell_type": "markdown",
      "metadata": {
        "id": "jvoBsBLfEfm8"
      },
      "source": [
        "## Newton Raphson"
      ]
    },
    {
      "cell_type": "code",
      "metadata": {
        "id": "byrYo3cj6Omb"
      },
      "source": [
        "def fprime(x):\n",
        "    return -8*np.exp(-x)*np.sin(x) + 8*np.exp(-x)*np.cos(x)"
      ],
      "execution_count": null,
      "outputs": []
    },
    {
      "cell_type": "code",
      "metadata": {
        "id": "9934LCyTGqnT"
      },
      "source": [
        "xold = 0.3\n",
        "multiplicity = 1\n",
        "\n",
        "iterations=0\n",
        "while True:\n",
        "    xold = round(xold,3)\n",
        "    xnew = round(round(xold,3) - multiplicity*round(func(xold),3)/round(fprime(xold),3),3)\n",
        "    rel_error = np.abs((xnew-xold)/xnew)*100\n",
        "    true_error = np.abs((true_value-xnew)/true_value)*100\n",
        "    xold = xnew\n",
        "    iterations+=1\n",
        "    if iterations==1:\n",
        "        print(\"Iteration:1\")\n",
        "        print(\"Function(xold) = \"+str(func(xold)))\n",
        "        print(\"Fprime(xold) = \" + str(fprime(xold)))\n",
        "        print(\"\\n\")\n",
        "    print(\"Iteration:\"+str(iterations) + \"\\t\\t\" +\"Xold:\"+str(xold) + \"\\t\\t\"+\"Xnew:\"+str(xnew) + \"\\t\\t\" +\"true error:\" + str(true_error) + \"\\t\\t\" +\"Rel error:\"+str(rel_error))\n",
        "    if rel_error<stopping_criteria:\n",
        "            break\n",
        "    if iterations>30:\n",
        "        break\n"
      ],
      "execution_count": null,
      "outputs": []
    },
    {
      "cell_type": "markdown",
      "metadata": {
        "id": "t7LnLxkU6gm6"
      },
      "source": [
        "### 2nd modification - Newton Raphson"
      ]
    },
    {
      "cell_type": "code",
      "metadata": {
        "id": "JogH-32W6n8U"
      },
      "source": [
        "def fdoubleprime(x):\n",
        "    return"
      ],
      "execution_count": null,
      "outputs": []
    },
    {
      "cell_type": "code",
      "metadata": {
        "id": "8W770h3eHBEy"
      },
      "source": [
        "xold = 0.5\n",
        "\n",
        "iterations=0\n",
        "while True:\n",
        "    xnew = xold - func(xold)*fprime(xold)/(fprime(xold)**2 - func(xold)*fdoubleprime(xold))\n",
        "    rel_error = np.abs((xnew-xold)/xnew)*100\n",
        "    true_error = np.abs((true_value-xnew)/true_value)*100\n",
        "    xold = xnew\n",
        "    iterations+=1\n",
        "    if iterations ==1:\n",
        "        print(\"Iteration:1\")\n",
        "        print(\"Function(xold) = \" + str(func(xold)))\n",
        "        print(\"Fprime(xold) = \" +str(fprime(xold)))\n",
        "        print(\"Fdoubleprime(xold) = \" + str(fdoubleprime(xold)))\n",
        "        print(\"\\n\")\n",
        "        print(\"Iteration:\"+str(iterations) + \"\\t\\t\" +\"Xold:\"+str(xold) + \"\\t\\t\"+\"Xnew:\"+str(xnew) + \"\\t\\t\" +\"true error:\" + str(true_error) + \"\\t\\t\" +\"Rel error:\"+str(rel_error))\n",
        "    else:\n",
        "        print(\"Iteration:\"+str(iterations) + \"\\t\\t\" +\"Xold:\"+str(xold) + \"\\t\\t\"+\"Xnew:\"+str(xnew) + \"\\t\\t\" +\"true error:\" + str(true_error) + \"\\t\\t\" +\"Rel error:\"+str(rel_error))\n",
        "    if rel_error<stopping_criteria:\n",
        "            break"
      ],
      "execution_count": null,
      "outputs": []
    },
    {
      "cell_type": "markdown",
      "metadata": {
        "id": "asroJT4PJJGN"
      },
      "source": [
        "## Secant Method"
      ]
    },
    {
      "cell_type": "code",
      "metadata": {
        "id": "j24deueQJKnP"
      },
      "source": [
        "x1=1\n",
        "x2=2\n",
        "\n",
        "iterations=0\n",
        "\n",
        "while True:\n",
        "    fprime = (func(x2) - func(x1))/(x2-x1)\n",
        "\n",
        "    temp = x2\n",
        "    x2 = x2 - func(x2)*(x2-x1)/(func(x2)-func(x1))\n",
        "    x1 = temp\n",
        "    \n",
        "    xold = x1\n",
        "    xnew = x2\n",
        "    rel_error = np.abs((xnew-xold)/xnew)*100\n",
        "    true_error = np.abs((true_value-xnew)/true_value)*100\n",
        "    \n",
        "    iterations+=1\n",
        "    if iterations ==1:\n",
        "        print(\"Iteration : 1\")\n",
        "        print(\"func(x1) = \"+ str(func(x1)))\n",
        "        print(\"func(x2) = \"+ str(func(x2)))\n",
        "        print(\"fprime = \"+ str(fprime))\n",
        "        print(\"\\n\")\n",
        "        print(\"Iteration:\"+str(iterations) + \"\\t\\t\" +\"Xold:\"+str(xold) + \"\\t\\t\"+\"Xnew:\"+str(xnew) + \"\\t\\t\" +\"true error:\" + str(true_error) + \"\\t\\t\" +\"Rel error:\"+str(rel_error))\n",
        "    else:\n",
        "        print(\"Iteration:\"+str(iterations) + \"\\t\\t\" +\"Xold:\"+str(xold) + \"\\t\\t\"+\"Xnew:\"+str(xnew) + \"\\t\\t\" +\"true error:\" + str(true_error) + \"\\t\\t\" +\"Rel error:\"+str(rel_error))\n",
        "    if rel_error<stopping_criteria:\n",
        "            break"
      ],
      "execution_count": null,
      "outputs": []
    },
    {
      "cell_type": "code",
      "metadata": {
        "id": "PA6Pzcp4LHnG"
      },
      "source": [
        ""
      ],
      "execution_count": null,
      "outputs": []
    },
    {
      "cell_type": "markdown",
      "metadata": {
        "id": "qel39p-fL8Wk"
      },
      "source": [
        "## Mueller Method"
      ]
    },
    {
      "cell_type": "code",
      "metadata": {
        "id": "3qs9aZ_PM5FV"
      },
      "source": [
        "def divided_diff(x2,x1):\n",
        "    return (func(x2)-func(x1))/(x2-x1)\n",
        "\n",
        "def second_divided_diff(x2,x1,x0):\n",
        "    return (divided_diff(x2,x1)-divided_diff(x1,x0))/(x2-x0)"
      ],
      "execution_count": null,
      "outputs": []
    },
    {
      "cell_type": "code",
      "metadata": {
        "id": "SVqQ9X09L9tM"
      },
      "source": [
        "x0 = 1\n",
        "x1 = 2\n",
        "x2 = 3\n",
        "\n",
        "iterations = 0\n",
        "\n",
        "while True:\n",
        "    c = func(x2)\n",
        "    b = divided_diff(x2,x1) + (x2-x1)*second_divided_diff(x2,x1,x0)\n",
        "    a = second_divided_diff(x2,x1,x0)\n",
        "\n",
        "    if np.abs(b+(b**2-4*a*c)) < np.abs(b-(b**2-4*a*c)) :\n",
        "        xnew = x2 - 2*c/(b-(b**2-4*a*c)**0.5)\n",
        "    else:\n",
        "        xnew = x2 - 2*c/(b+(b**2-4*a*c)**0.5)\n",
        "    \n",
        "    rel_error = np.abs((xnew-x2)/xnew)*100\n",
        "    true_error = np.abs((true_value-xnew)/true_value)*100\n",
        "\n",
        "    \n",
        "    x0 = x1\n",
        "    x1 = x2\n",
        "    x2 = xnew\n",
        "\n",
        "    iterations+=1\n",
        "    if iterations ==1:\n",
        "        print(\"Iteration : 1\")\n",
        "        print(\"Divided Difference (x2,x1) = \"+ str(divided_diff(x2,x1)))\n",
        "        print(\"Second Divided Difference = \"+ str(second_divided_diff(x2,x1,x0)))\n",
        "        print(\"Determinant = \" + str(b**2-4*a*c))\n",
        "        print(\"a:\" + str(a) +\"\\t\\t\" +\"b:\"+ str(b)+\"\\t\\t\" + \"c:\"+str(c))\n",
        "        print(\"\\n\")\n",
        "        print(\"Iteration:\"+str(iterations) + \"\\t\\t\" +\"X0:\"+str(x0)+ \"\\t\\t\" +\"X1:\"+str(x1) + \"\\t\\t\"+\"X2:\"+str(x2) + \"\\t\\t\" +\"true error:\" + str(true_error) + \"\\t\\t\" +\"Rel error:\"+str(rel_error))\n",
        "    else:\n",
        "        print(\"Iteration:\"+str(iterations) + \"\\t\\t\" +\"X0:\"+str(x0)+ \"\\t\\t\" +\"X1:\"+str(x1) + \"\\t\\t\"+\"X2:\"+str(x2) + \"\\t\\t\" +\"true error:\" + str(true_error) + \"\\t\\t\" +\"Rel error:\"+str(rel_error))\n",
        "    if rel_error<stopping_criteria:\n",
        "            break\n",
        "    if iterations > 30:\n",
        "        break\n",
        "\n",
        "\n"
      ],
      "execution_count": null,
      "outputs": []
    },
    {
      "cell_type": "markdown",
      "metadata": {
        "id": "2X3dYHWPorLG"
      },
      "source": [
        "## Gaussian Elimination\n"
      ]
    },
    {
      "cell_type": "code",
      "metadata": {
        "id": "w9pVpMaAPmrk"
      },
      "source": [
        "import numpy as np"
      ],
      "execution_count": null,
      "outputs": []
    },
    {
      "cell_type": "code",
      "metadata": {
        "id": "pTYzhtzfsB_2"
      },
      "source": [
        ""
      ],
      "execution_count": null,
      "outputs": []
    },
    {
      "cell_type": "code",
      "metadata": {
        "id": "dgpxnPBfrTVT"
      },
      "source": [
        "n = 10\n",
        "# A = np.matrix('[2 -6 -1; -3 -1 7; -8 1 -2]').astype(float)\n",
        "# B = np.matrix('[400; 0; 200]').astype(float)\n",
        "\n",
        "print(\"Enter the entries in a single line (separated by space): A\") \n",
        "entries_a = list(map(float, input().split())) \n",
        "\n",
        "print(\"Enter the entries in a single line (separated by space): b\") \n",
        "entries_b = list(map(float, input().split())) \n",
        "\n",
        "a = np.array(entries_a).reshape(n, n) \n",
        "b = np.array(entries_b).reshape(n, 1)\n",
        "A = a\n",
        "B = b\n",
        "L = np.matrix(np.zeros(shape=(n,n)))\n",
        "identity = np.identity(n)"
      ],
      "execution_count": null,
      "outputs": []
    },
    {
      "cell_type": "code",
      "metadata": {
        "id": "Uw3PJE-TtiYe"
      },
      "source": [
        "6    -7     3     4    -1    -4     5     7    -3    -8    8     9    -9    -9    -2     4    -5    -5     7    -9    -7     9     7    -4     5  3     0     6     2     1     8     0     9    -9     6    -7     4    -5     1     6     3     6     4    -8    -6    -8     8     9     8     9   -8  -7     5     6     0     0     9    -3    -4    -7   -4    -2     5     4    -1     9     1    -6     5     1    1     8    -2    -4     3    -3  -7    -5     5    -1     9     6     3     9     4     2    -7     2    -2   -10     9     9    -7    -9     5    -6    -5   -1     1    -3A[0]"
      ],
      "execution_count": null,
      "outputs": []
    },
    {
      "cell_type": "code",
      "metadata": {
        "id": "_jdhj9ZKanby"
      },
      "source": [
        "## Scaling\n",
        "def mat_scaling(A,B,n):\n",
        "    avg = [1.0]*n\n",
        "    for i in range(n):\n",
        "        avg[i] = np.mean(np.absolute(A[i]))\n",
        "    max = np.max(avg)\n",
        "    for i in range(n):\n",
        "        coeff = round(max/avg[i])\n",
        "        A[[i]] = A[[i]]*coeff\n",
        "        B[[i]] = B[[i]]*coeff\n",
        "    return A,B\n",
        "\n",
        "A,B = mat_scaling(A,B,n)"
      ],
      "execution_count": null,
      "outputs": []
    },
    {
      "cell_type": "code",
      "metadata": {
        "id": "75U74eYEcl85"
      },
      "source": [
        "B"
      ],
      "execution_count": null,
      "outputs": []
    },
    {
      "cell_type": "code",
      "metadata": {
        "id": "DzKmS7I6DJAH"
      },
      "source": [
        "## pivoting\n",
        "\n",
        "def pivot(A,B,n,identity):\n",
        "    for i in range(n):\n",
        "        for j in range(i,n):\n",
        "            row = A[j]\n",
        "            maxx = np.abs(np.max(row))\n",
        "            minn = np.abs(np.min(row))\n",
        "            if maxx >= minn:\n",
        "                idxmax = np.argmax(row)\n",
        "            else:\n",
        "                idxmax = np.argmin(row)\n",
        "            if idxmax == i:\n",
        "                A[[i,j]] = A[[j,i]]\n",
        "                B[[i,j]] = B[[j,i]]\n",
        "                identity[[i,j]] = identity[[j,i]]\n",
        "                break\n",
        "    return A,B,identity\n",
        "\n",
        "A,B,perm = pivot(A,B,n,identity)"
      ],
      "execution_count": null,
      "outputs": []
    },
    {
      "cell_type": "code",
      "metadata": {
        "id": "wTAjtxuEWiuj"
      },
      "source": [
        "A*perm"
      ],
      "execution_count": null,
      "outputs": []
    },
    {
      "cell_type": "code",
      "metadata": {
        "id": "Jzw9EKl7WmoB"
      },
      "source": [
        "A"
      ],
      "execution_count": null,
      "outputs": []
    },
    {
      "cell_type": "code",
      "metadata": {
        "id": "EGYZ5aPyZFwT"
      },
      "source": [
        "perm*B"
      ],
      "execution_count": null,
      "outputs": []
    },
    {
      "cell_type": "code",
      "metadata": {
        "id": "OIbr1GonaZ3x"
      },
      "source": [
        "B"
      ],
      "execution_count": null,
      "outputs": []
    },
    {
      "cell_type": "code",
      "metadata": {
        "id": "Z4UAVhRvsSYA"
      },
      "source": [
        "## \"Forward Elimination\"\n",
        "for k in range(n):\n",
        "    for i in range(k+1,n):\n",
        "        L[i,k] = A[i,k]/A[k,k] \n",
        "               \n",
        "        for j in range(k,n):\n",
        "            # print(i,j)   \n",
        "            # print(A[i,j],L[i,k],A[k,j])  \n",
        "                \n",
        "            A[i,j] = A[i,j] - L[i,k]*A[k,j]\n",
        "            # print(A[i,j])\n",
        "            # print(\"A matrix\")\n",
        "            # print(A)\n",
        "        B[i] = B[i] - L[i,k]*B[k]           \n",
        "        # print(\"B matrix\")\n",
        "        # print(B)\n",
        "        # print(\"\\n\")\n",
        "    L[k,k] = 1\n",
        "    \n",
        "print(\"L matrix\")\n",
        "print(L)\n",
        "print(\"U matrix\")\n",
        "print(A)\n",
        "\n",
        "## Backward Substitution\n",
        "X = np.zeros(shape=(n,1))\n",
        "X[n-1] = B[n-1]/A[n-1,n-1]\n",
        "for i in range(n-2,-1,-1):\n",
        "    sum_of_ax = 0\n",
        "    for j in range(i+1,n):\n",
        "        sum_of_ax = sum_of_ax + A[i,j]*X[j]\n",
        "    X[i] = (B[i] - sum_of_ax)/A[i,i]\n",
        "\n",
        "# print(\"X matrix\")\n",
        "# print(X)\n"
      ],
      "execution_count": null,
      "outputs": []
    },
    {
      "cell_type": "markdown",
      "metadata": {
        "id": "mXiS26MV04Jz"
      },
      "source": [
        "# Cholesky"
      ]
    },
    {
      "cell_type": "code",
      "metadata": {
        "id": "pLe4mPQc0-e4"
      },
      "source": [
        "import numpy as np"
      ],
      "execution_count": null,
      "outputs": []
    },
    {
      "cell_type": "code",
      "metadata": {
        "id": "j1_OYasTCjnT"
      },
      "source": [
        "n = 3\n",
        "# A = np.matrix('[4 2 14;2 17 -5;14 -5 83]').astype(float)\n",
        "A = np.matrix('[5 1 0;1 5 1;0 1 5]').astype(float)\n",
        "\n",
        "B = np.matrix('[7; 14; 17]').astype(float)\n",
        "L = np.matrix(np.zeros(shape=(n,n)))"
      ],
      "execution_count": null,
      "outputs": []
    },
    {
      "cell_type": "code",
      "metadata": {
        "id": "OC2S2zCx3_3l"
      },
      "source": [
        "## Generating augmented matrix\n",
        "# Aug = np.zeros((n,n+1))\n",
        "# Aug[:,:-1] = A\n",
        "# Aug[:,-1] = B.T\n"
      ],
      "execution_count": null,
      "outputs": []
    },
    {
      "cell_type": "code",
      "metadata": {
        "id": "C2G8y1cv6ePw"
      },
      "source": [
        "## L U Decomposition\n",
        "for i in range(n):\n",
        "    for k in range(i+1):\n",
        "        sum_llij = sum(L[i,j]*L[k,j] for j in range(k))\n",
        "        \n",
        "        if (i == k):\n",
        "            L[i,k] = (A[i,i]-sum_llij)**0.5\n",
        "        else:\n",
        "            L[i,k] = (A[i,k]-sum_llij)/L[k,k]\n",
        "print(\"L matrix\")\n",
        "print(L)\n",
        "print(\"\\n\")\n",
        "\n",
        "## Calculating B\n",
        "for i in range(n):\n",
        "    summ = 0\n",
        "    for k in range(i):\n",
        "        summ = summ + B[k]*L[i,k]\n",
        "    B[i] = (B[i] - summ)/L[i,i]\n",
        "     \n",
        "print(\"Matrix B:\")\n",
        "print(B)\n",
        "print(\"\\n\")\n",
        "\n",
        "## Backward Substitution\n",
        "L = L.T\n",
        "X = np.zeros(shape=(n,1))\n",
        "X[n-1] = B[n-1]/L[n-1,n-1]\n",
        "for i in range(n-2,-1,-1):\n",
        "    sum_of_ax = 0\n",
        "    for j in range(i+1,n):\n",
        "        sum_of_ax = sum_of_ax + L[i,j]*X[j]\n",
        "    X[i] = (B[i] - sum_of_ax)/L[i,i]\n",
        "\n",
        "print(\"X matrix\")\n",
        "print(X)"
      ],
      "execution_count": null,
      "outputs": []
    },
    {
      "cell_type": "markdown",
      "metadata": {
        "id": "RMHFJM7lMmCc"
      },
      "source": [
        "# Gauss Siedel"
      ]
    },
    {
      "cell_type": "code",
      "metadata": {
        "id": "zpsvyhWX_ujs"
      },
      "source": [
        "# Defining our function as seidel which takes 3 arguments \n",
        "# as A matrix, Solution and B matrix \n",
        "\n",
        "def seidel(a, x ,b): \n",
        "\t#Finding length of a(3)\t \n",
        "\tn = len(a)\t\t\t\t \n",
        "\t# for loop for 3 times as to calculate x, y , z \n",
        "\tfor j in range(0, n):\t\t \n",
        "\t\t# temp variable d to store b[j] \n",
        "\t\td = b[j]\t\t\t\t \n",
        "\t\t\n",
        "\t\t# to calculate respective xi, yi, zi \n",
        "\t\tfor i in range(0, n):\t \n",
        "\t\t\tif(j != i): \n",
        "\t\t\t\td-=a[j][i] * x[i] ## x[i-1] for Jacobi\n",
        "\t\t# updating the value of our solution\t\t \n",
        "\t\tx[j] = d / a[j][j] \n",
        "\t# returning our updated solution\t\t \n",
        "\treturn x\t \n",
        "\n",
        "# int(input())input as number of variable to be solved\t\t\t\t \n",
        "n = 3\t\t\t\t\t\t\t\n",
        "a = []\t\t\t\t\t\t\t \n",
        "b = []\t\t \n",
        "# initial solution depending on n(here n=3)\t\t\t\t\t \n",
        "xold = [0, 0, 0]\t\t\t\t\t\t \n",
        "a = [[4, 1, 2],[3, 5, 1],[1, 1, 3]] \n",
        "b = [4,7,3] \n",
        "print(xold) \n",
        "\n",
        "#loop run for m times depending on m the error value \n",
        "error = [1.0]*len(xold)\n",
        "for i in range(0, 25):\n",
        "    x = xold.copy()\n",
        "    xnew = seidel(a, xold, b)\n",
        "    for j in range(len(xnew)):\n",
        "        error[j] = (float(xnew[j])-float(x[j]))/float(xnew[j])\n",
        "    xold = xnew\n",
        "    #print each time the updated solution \n",
        "    print(xold, error)\t\t\t\t \n"
      ],
      "execution_count": null,
      "outputs": []
    },
    {
      "cell_type": "markdown",
      "metadata": {
        "id": "-8NDA8qmmIV2"
      },
      "source": [
        "# Programming Assignment 1"
      ]
    },
    {
      "cell_type": "markdown",
      "metadata": {
        "id": "ssAjUn36JiAX"
      },
      "source": [
        "## 1"
      ]
    },
    {
      "cell_type": "code",
      "metadata": {
        "id": "AS33yRgPxucL"
      },
      "source": [
        "A = np.matrix('[4 2 0; 2 4 1; 0 1 5]').astype(float)\n",
        "A"
      ],
      "execution_count": null,
      "outputs": []
    },
    {
      "cell_type": "code",
      "metadata": {
        "id": "t_eWm1M9xx9m"
      },
      "source": [
        "A**-1"
      ],
      "execution_count": null,
      "outputs": []
    },
    {
      "cell_type": "code",
      "metadata": {
        "id": "IFP5-GE2x0oZ"
      },
      "source": [
        "A*(A**-1)"
      ],
      "execution_count": null,
      "outputs": []
    },
    {
      "cell_type": "code",
      "metadata": {
        "id": "1o-Py0QfPOgo"
      },
      "source": [
        "import numpy as np\n",
        "n = 3\n",
        "A = np.matrix('[4 2 0; 2 4 1; 0 1 5]').astype(float)\n",
        "B = np.matrix('[10 11.5 5]').astype(float).T\n",
        "L = np.matrix(np.zeros(shape=(n,n)))\n",
        "option=\"c\"\n",
        "\n",
        "## Scaling\n",
        "def mat_scaling(A,B,n):\n",
        "    avg = [1.0]*n\n",
        "    for i in range(n):\n",
        "        avg[i] = np.mean(np.absolute(A[i]))\n",
        "    max = np.max(avg)\n",
        "    for i in range(n):\n",
        "        coeff = round(max/avg[i])\n",
        "        A[[i]] = A[[i]]*coeff\n",
        "        B[[i]] = B[[i]]*coeff\n",
        "    return A,B\n",
        "\n",
        "def GE(A,B,n,L):\n",
        "    ## \"Forward Elimination\"\n",
        "    for k in range(n):\n",
        "        for i in range(k+1,n):\n",
        "            L[i,k] = A[i,k]/A[k,k] \n",
        "                \n",
        "            for j in range(k,n):                    \n",
        "                A[i,j] = A[i,j] - L[i,k]*A[k,j]\n",
        "            B[i] = B[i] - L[i,k]*B[k]\n",
        "        L[k,k] = 1\n",
        "\n",
        "    ## Backward Substitution\n",
        "    X = np.zeros(shape=(n,1))\n",
        "    X[n-1] = B[n-1]/A[n-1,n-1]\n",
        "    for i in range(n-2,-1,-1):\n",
        "        sum_of_ax = 0\n",
        "        for j in range(i+1,n):\n",
        "            sum_of_ax = sum_of_ax + A[i,j]*X[j]\n",
        "        X[i] = (B[i] - sum_of_ax)/A[i,i]\n",
        "    return X,A\n",
        "\n",
        "def LU(A,B,n,L):\n",
        "    # print(1)\n",
        "    ## \"Forward Elimination\"\n",
        "    for k in range(n):\n",
        "        for i in range(k+1,n):\n",
        "            L[i,k] = A[i,k]/A[k,k] \n",
        "                \n",
        "            for j in range(k,n):                    \n",
        "                A[i,j] = A[i,j] - L[i,k]*A[k,j]\n",
        "            B[i] = B[i] - L[i,k]*B[k]\n",
        "        L[k,k] = 1\n",
        "\n",
        "    ## Backward Substitution\n",
        "    X = np.zeros(shape=(n,1))\n",
        "    X[n-1] = B[n-1]/A[n-1,n-1]\n",
        "    for i in range(n-2,-1,-1):\n",
        "        sum_of_ax = 0\n",
        "        for j in range(i+1,n):\n",
        "            sum_of_ax = sum_of_ax + A[i,j]*X[j]\n",
        "        X[i] = (B[i] - sum_of_ax)/A[i,i]\n",
        "    return X,L,A\n",
        "\n",
        "def calc_inv(L,U,n):\n",
        "    Ainv = np.zeros(shape = (n,n))\n",
        "    I = np.identity(n)\n",
        "    for i in range(n):\n",
        "        Z,var1,var2 = LU(L,I[:,i],n,np.zeros(shape=(n,n)))\n",
        "        Xp,var1,var2 = LU(U,Z,n,np.zeros(shape=(n,n)))\n",
        "        Ainv[:,i:i+1] = Xp\n",
        "    return Ainv\n",
        "\n",
        "\n",
        "def cholesky(A,B,n,L):\n",
        "    ## L U Decomposition\n",
        "    for i in range(n):\n",
        "        for k in range(i+1):\n",
        "            sum_llij = sum(L[i,j]*L[k,j] for j in range(k))\n",
        "            \n",
        "            if (i == k):\n",
        "                L[i,k] = (A[i,i]-sum_llij)**0.5\n",
        "            else:\n",
        "                L[i,k] = (A[i,k]-sum_llij)/L[k,k]\n",
        "\n",
        "    ## Calculating B\n",
        "    for i in range(n):\n",
        "        summ = 0\n",
        "        for k in range(i):\n",
        "            summ = summ + B[k]*L[i,k]\n",
        "        B[i] = (B[i] - summ)/L[i,i]\n",
        "\n",
        "    ## Backward Substitution\n",
        "    L = L.T\n",
        "    X = np.zeros(shape=(n,1))\n",
        "    X[n-1] = B[n-1]/L[n-1,n-1]\n",
        "    for i in range(n-2,-1,-1):\n",
        "        sum_of_ax = 0\n",
        "        for j in range(i+1,n):\n",
        "            sum_of_ax = sum_of_ax + L[i,j]*X[j]\n",
        "        X[i] = (B[i] - sum_of_ax)/L[i,i]\n",
        "    return X,L.T\n",
        "\n",
        "\n",
        "## Pivoting\n",
        "def pivot(A,B,n,identity):\n",
        "    for i in range(n):\n",
        "        for j in range(i,n):\n",
        "            row = A[j]\n",
        "            maxx = np.abs(np.max(row))\n",
        "            minn = np.abs(np.min(row))\n",
        "            if maxx >= minn:\n",
        "                idxmax = np.argmax(row)\n",
        "            else:\n",
        "                idxmax = np.argmin(row)\n",
        "            if idxmax == i:\n",
        "                A[[i,j]] = A[[j,i]]\n",
        "                B[[i,j]] = B[[j,i]]\n",
        "                identity[[i,j]] = identity[[j,i]]\n",
        "                break\n",
        "    return A,B,identity\n",
        "\n",
        "L = np.matrix(np.zeros(shape=(n,n)))\n",
        "identity = np.identity(n)\n",
        "\n",
        "if option == \"a\":\n",
        "    A,B = mat_scaling(A,B,n)\n",
        "    A,B,perm = pivot(A,B,n,identity)\n",
        "    X,U = GE(A,B,n,L)\n",
        "    print(\"Permutation matrix is:\")\n",
        "    print(perm)\n",
        "    print(\"X matrix is:\")\n",
        "    print(X)\n",
        "    print(\"U matrix is:\")\n",
        "    print(U)\n",
        "    \n",
        "elif option ==\"b\":\n",
        "    print(\"A matrix is :\")\n",
        "    print(A)\n",
        "    X,L,U = LU(A,B,n,L)\n",
        "    \n",
        "    print(\"X matrix is:\")\n",
        "    print(X)\n",
        "    print(\"L matrix is:\")\n",
        "    print(L)\n",
        "    print(\"U matrix is:\")\n",
        "    print(U)\n",
        "    Ainv = calc_inv(L,U,n)\n",
        "    print(\"Inverse of A is:\")\n",
        "    print(Ainv)\n",
        "    \n",
        "elif option == \"c\":\n",
        "    A,B,perm = pivot(A,B,n,identity)\n",
        "    X,L,U = LU(A,B,n,L)\n",
        "    print(\"Permutation matrix is:\")\n",
        "    print(perm)\n",
        "    print(\"X matrix is:\")\n",
        "    print(X)\n",
        "    print(\"L matrix is:\")\n",
        "    print(L)\n",
        "    print(\"U matrix is:\")\n",
        "    print(U)\n",
        "    Ainv = calc_inv(L,U,n)\n",
        "    print(\"Inverse of A is:\")\n",
        "    print(Ainv)\n",
        "\n",
        "elif option == \"d\":\n",
        "    X, LC = cholesky(A,B,n,L)\n",
        "    print(\"X matrix is:\")\n",
        "    print(X)\n",
        "    print(\"Cholesky factor (L matrix) is:\")\n",
        "    print(L)\n",
        "\n",
        "else:\n",
        "    print(\"Option not valid, try again\")\n",
        "    \n",
        "    \n",
        "## Checking\n",
        "import scipy.linalg as la\n",
        "A = np.matrix('[4 2 0; 2 4 1; 0 1 5]').astype(float)\n",
        "(P, L, U) = la.lu(A)\n",
        "print(L)\n",
        "print(U)\n",
        "print(np.linalg.cholesky(A))\n",
        "    "
      ],
      "execution_count": null,
      "outputs": []
    },
    {
      "cell_type": "code",
      "metadata": {
        "id": "37NIlBKJwWA5"
      },
      "source": [
        "A**-1"
      ],
      "execution_count": null,
      "outputs": []
    },
    {
      "cell_type": "code",
      "metadata": {
        "id": "hmC2zRzFyT3M"
      },
      "source": [
        "(L * U)**-1"
      ],
      "execution_count": null,
      "outputs": []
    },
    {
      "cell_type": "code",
      "metadata": {
        "id": "EnoTITddyaoo"
      },
      "source": [
        "print(\"A matrix is:\")\n",
        "A"
      ],
      "execution_count": null,
      "outputs": []
    },
    {
      "cell_type": "markdown",
      "metadata": {
        "id": "ef0uWTqzJli_"
      },
      "source": [
        "## 2"
      ]
    },
    {
      "cell_type": "code",
      "metadata": {
        "id": "oFvEHsoKJm0g"
      },
      "source": [
        "import numpy as np\n",
        "\n",
        "rad = 1.0\n",
        "density_sph = 200\n",
        "density_water = 1000\n",
        "\n",
        "ratio = density_sph/density_water\n",
        "cons = 4*(1-ratio)*(rad**3)\n",
        "\n",
        "a = 0.1\n",
        "b = 2.0\n",
        "stopping_criteria = 0.01\n",
        "\n",
        "prev_mid = 0.0\n",
        "iterations = 0\n",
        "\n",
        "def func(x,rad,C):\n",
        "    return x**3 - 3*rad*(x**2) + C\n",
        "\n",
        "while True:\n",
        "    if func(a,rad,cons)*func(b,rad,cons)<0:\n",
        "        iterations+=1\n",
        "        mid = (a+b)/2\n",
        "        value = func(mid,rad,cons)\n",
        "        if value == 0.0:\n",
        "            print(\"root found \"+ str(mid))\n",
        "            break\n",
        "        rel_error = np.abs((prev_mid-mid)/mid)*100\n",
        "        prev_mid = mid\n",
        "        if func(a,rad,cons)*func(mid,rad,cons)<0:\n",
        "            b = mid\n",
        "        else:\n",
        "            a = mid \n",
        "        print(a,b,mid)\n",
        "        if rel_error<stopping_criteria:\n",
        "            # mid= (a+b)/2\n",
        "            print(\"Value of h is \" + str(round(mid,6)))\n",
        "            break\n",
        "    else:\n",
        "        print(\"Bad a and b values to start\")\n",
        "        break\n"
      ],
      "execution_count": null,
      "outputs": []
    },
    {
      "cell_type": "code",
      "metadata": {
        "id": "EeYTNqv7Jt9a"
      },
      "source": [
        ""
      ],
      "execution_count": null,
      "outputs": []
    },
    {
      "cell_type": "markdown",
      "metadata": {
        "id": "TZdo-sZ9qHG7"
      },
      "source": [
        "# Power method"
      ]
    },
    {
      "cell_type": "code",
      "metadata": {
        "id": "CZfx7lLcqIPa"
      },
      "source": [
        "import numpy as np\n",
        "import numpy.linalg as la\n",
        "\n",
        "eps = 1e-8 # Precision of eigenvalue\n",
        "\n",
        "def trans(v): # translates vector (v^T)\n",
        "    v_1 = np.copy(v)\n",
        "    return v_1.reshape((-1, 1))\n",
        "\n",
        "def power(A):\n",
        "    eig = []\n",
        "    Ac = np.copy(A)\n",
        "    lamb = 0\n",
        "    for i in range(3):\n",
        "        x = np.array([1, 1, 1])\n",
        "        while True:\n",
        "            x_1 = Ac.dot(x) # y_n = A*x_(n-1)\n",
        "            x_norm = la.norm(x_1) \n",
        "            x_1 = x_1/x_norm # x_n = y_n/||y_n||\n",
        "            if(abs(lamb - x_norm) <= eps): # If precision is reached, it returns eigenvalue\n",
        "                break\n",
        "            else:\n",
        "                lamb = np.dot(x,x_1)\n",
        "                x = x_1\n",
        "        eig.append(lamb)\n",
        "\n",
        "        # Matrix Deflaction: A - Lambda * norm[V]*norm[V]^T\n",
        "        v = x_1/la.norm(x_1)\n",
        "        R = v * trans(v)\n",
        "        R = eig[i]*R\n",
        "        Ac = Ac - R\n",
        "\n",
        "    return eig\n",
        "\n",
        "A = np.array([1, 2, 3, 2, 4, 5, 3, 5, -1]).reshape((3, 3))\n",
        "print(power(A))\n"
      ],
      "execution_count": null,
      "outputs": []
    },
    {
      "cell_type": "code",
      "metadata": {
        "id": "rzAsZvQGqU8R"
      },
      "source": [
        "from scipy import linalg\n",
        "a = np.array([[0., -1.], [1., 0.], [1,1,1]])\n",
        "linalg.eigvals(a)"
      ],
      "execution_count": null,
      "outputs": []
    },
    {
      "cell_type": "markdown",
      "metadata": {
        "id": "x5Xp3YbC3__O"
      },
      "source": [
        "## Power own"
      ]
    },
    {
      "cell_type": "code",
      "metadata": {
        "id": "CkPkftTysv4w"
      },
      "source": [
        "import numpy as np\n",
        "\n",
        "n = 2\n",
        "# A = np.matrix('[4 2 14;2 17 -5;14 -5 83]').astype(float)\n",
        "A = np.matrix('[2 5 3;4 12 6;3 6 10]').astype(float)\n",
        "epsilon = 0.001\n",
        "    \n",
        "# A = (A-3.5*np.identity(n))**-1"
      ],
      "execution_count": null,
      "outputs": []
    },
    {
      "cell_type": "code",
      "metadata": {
        "id": "0zVpXQaS4IZr"
      },
      "source": [
        "zprime = np.matrix('[0.5;1;1]')\n",
        "zprime[1,0] = 0\n",
        "prev_norm = 0\n",
        "i=0\n",
        "\n",
        "def calc_norm(Z):\n",
        "    n = Z.shape[0]\n",
        "    max = 0\n",
        "    for i in range(n):\n",
        "        if abs(Z[i]) > abs(max):\n",
        "            max = Z[i]\n",
        "    return float(max)\n",
        "\n",
        "while i<2:\n",
        "    zprime = A*zprime\n",
        "    print(zprime)\n",
        "    norm = calc_norm(zprime)\n",
        "    # print(norm)\n",
        "    yprime = zprime/(norm)\n",
        "    # print(yprime)\n",
        "    error = (norm-prev_norm)/norm*100\n",
        "    if error < epsilon:\n",
        "        print(\"Highest Eigen Value is \" + str(norm))\n",
        "        break\n",
        "    prev_norm = norm\n",
        "    zprime = yprime\n",
        "    i+=1\n"
      ],
      "execution_count": null,
      "outputs": []
    },
    {
      "cell_type": "code",
      "metadata": {
        "id": "-xRG8h_ta3st"
      },
      "source": [
        "import numpy as np\n",
        "\n",
        "n = 2\n",
        "# A = np.matrix('[4 2 14;2 17 -5;14 -5 83]').astype(float)\n",
        "A = np.matrix('[-5 2;2 -2]').astype(float)\n",
        "epsilon = 0.001\n",
        "\n",
        "def calc_norm(Z):\n",
        "    n = Z.shape[0]\n",
        "    max = 0\n",
        "    for i in range(n):\n",
        "        if abs(Z[i]) > abs(max):\n",
        "            max = Z[i]\n",
        "    return float(max)\n",
        "\n",
        "zprime = np.ones(shape=(n,1))\n",
        "zprime[1,0] = 0\n",
        "prev_norm = 0\n",
        "i=0\n",
        "\n",
        "while i<100:\n",
        "    zprime = A*zprime\n",
        "    # print(zprime)\n",
        "    norm = calc_norm(zprime)\n",
        "    # print(norm)\n",
        "    yprime = zprime/(norm)\n",
        "    # print(yprime)\n",
        "    error = (norm-prev_norm)/norm*100\n",
        "    if error < epsilon:\n",
        "        print(\"Highest Eigen Value is \" + str(norm))\n",
        "        break\n",
        "    prev_norm = norm\n",
        "    zprime = yprime\n",
        "    i+=1\n",
        "\n",
        "Ainv = np.linalg.inv(A)\n",
        "zprime = np.ones(shape=(n,1))\n",
        "zprime[1,0] = 0\n",
        "prev_norm = 0\n",
        "i=0\n",
        "\n",
        "while i<100:\n",
        "    zprime = Ainv*zprime\n",
        "    # print(zprime)\n",
        "    norm = calc_norm(zprime)\n",
        "    # print(norm)\n",
        "    yprime = zprime/(norm)\n",
        "    # print(yprime)\n",
        "    error = (norm-prev_norm)/norm*100\n",
        "    if error < epsilon:\n",
        "        print(\"Lowest Eigen Value is \" + str(1/norm))\n",
        "        break\n",
        "    prev_norm = norm\n",
        "    zprime = yprime\n",
        "    i+=1"
      ],
      "execution_count": null,
      "outputs": []
    },
    {
      "cell_type": "markdown",
      "metadata": {
        "id": "hGY9ijvlG06S"
      },
      "source": [
        "## QR Decomposition"
      ]
    },
    {
      "cell_type": "code",
      "metadata": {
        "id": "GMz3Bst5abA3"
      },
      "source": [
        "x = np.array([1,2,3,4,5]).astype(float)\n",
        "y = np.array([-48,32,56,43,92]).astype(float)\n",
        "n = len(y)\n",
        "pred_val = 2.2\n",
        "choice = \"A\"\n",
        "\n",
        "diff_arr = np.abs(x-pred_val)\n",
        "sorted_indices = np.argsort(diff_arr)\n",
        "np.array(x)[sorted_indices]"
      ],
      "execution_count": null,
      "outputs": []
    },
    {
      "cell_type": "code",
      "metadata": {
        "id": "DFOpKOSbigIe"
      },
      "source": [
        "import numpy as np\n",
        "\n",
        "n = 3\n",
        "iter = 0\n",
        "# A = np.matrix('[4 2 14;2 17 -5;14 -5 83]').astype(float)\n",
        "# A = np.matrix('[4 3;3 3]').astype(float)\n",
        "A = np.matrix('[1 1 1;2 2 3;4 5 7]').astype(float)\n",
        "\n",
        "epsilon = 0.001\n",
        "\n",
        "# Z = np.matrix(np.zeros(shape=(n,n)))\n",
        "\n",
        "# def calc_Q(A,n):\n",
        "#     Q = np.matrix(np.zeros(shape=(n,n)))\n",
        "#     # Q[:,0] = A[:,0]/np.linalg.norm(A[:,0])\n",
        "#     for i in range(0,n):\n",
        "#         summ = np.matrix(np.zeros(shape = (n,1)))\n",
        "#         for j in range(0,i):\n",
        "#             # print(float((A[:,i+1].T)*Q[:,j]))\n",
        "#             summ = summ + float((A[:,i+1].T)*Q[:,j])*Q[:,j]\n",
        "#         Z = A[:,i+1] - summ\n",
        "#         Q[:,i+1] = Z/np.linalg.norm(Z)\n",
        "#         return Q\n",
        "\n",
        "def calc_Q(A,n):\n",
        "    X = np.array(A,dtype=float)\n",
        "    Q = np.zeros(A.shape)\n",
        "    for i in range(n):\n",
        "        A_col = X[:,i]\n",
        "        Q_col = Q[:,:i]\n",
        "        print(A_col)\n",
        "        print(Q_col)\n",
        "        mull = np.matmul(A_col,Q_col)\n",
        "        summ = np.sum(mull*Q_col, axis=1)\n",
        "        A_col = A_col - summ      \n",
        "        Q[:,i] = A_col/np.linalg.norm(A_col)\n",
        "    return np.matrix(Q)\n",
        "\n",
        "def calc_R(A,Q,n):\n",
        "    R = np.zeros(shape=(n,n))\n",
        "    for i in range(n):\n",
        "        for j in range(i,n):\n",
        "            R[i,j] = (Q[:,i].T*A[:,j])\n",
        "    # print(R)\n",
        "    return R\n",
        "\n",
        "Aold = A\n",
        "while iter<100:\n",
        "    iter +=1\n",
        "    print(n)\n",
        "    Q = calc_Q(A,n)\n",
        "    R = calc_R(A,Q,n)\n",
        "    # print(Q)\n",
        "    # print(R)\n",
        "    Aold = A\n",
        "    Anew = R*Q\n",
        "    maxx = 0\n",
        "    # print(Anew)\n",
        "    for i in range(n):\n",
        "        eigenold = Aold[i,i]\n",
        "        eigennew = Anew[i,i]\n",
        "        diff = np.abs((eigennew-eigenold)/eigennew)\n",
        "        if diff > maxx:\n",
        "            maxx = diff\n",
        "    if maxx*100 < epsilon:\n",
        "        print(\"Eigen Values are:\")\n",
        "        for i in range(n):\n",
        "            print(float(Anew[i,i]))\n",
        "        break\n",
        "    A = Anew\n",
        "\n",
        "\n"
      ],
      "execution_count": null,
      "outputs": []
    },
    {
      "cell_type": "code",
      "metadata": {
        "id": "iS0hxzSFTOYc"
      },
      "source": [
        "Q[:,1]\n",
        "# A[:,1].shape"
      ],
      "execution_count": null,
      "outputs": []
    },
    {
      "cell_type": "code",
      "metadata": {
        "id": "gU7_mzGaTkol"
      },
      "source": [
        "summ.shape"
      ],
      "execution_count": null,
      "outputs": []
    },
    {
      "cell_type": "code",
      "metadata": {
        "id": "q77sAQMQ5iMc"
      },
      "source": [
        "\n",
        "A = np.matrix('[1 1 1;2 2 3;4 5 7]').astype(float)\n",
        "np.linalg.eig(A)"
      ],
      "execution_count": null,
      "outputs": []
    },
    {
      "cell_type": "code",
      "metadata": {
        "id": "kSuEpSaN6FtK"
      },
      "source": [
        "np.linalg.norm(A*zprime,np.inf)"
      ],
      "execution_count": null,
      "outputs": []
    },
    {
      "cell_type": "code",
      "metadata": {
        "id": "1KdcyvHL6Qrp"
      },
      "source": [
        "zprime.shape"
      ],
      "execution_count": null,
      "outputs": []
    },
    {
      "cell_type": "code",
      "metadata": {
        "id": "jWKvJe367gLx"
      },
      "source": [
        "float(np.abs(zprime[[1]]) )"
      ],
      "execution_count": null,
      "outputs": []
    },
    {
      "cell_type": "code",
      "metadata": {
        "id": "CvmUYmEg78N8"
      },
      "source": [
        "A - 2*np.identity(2)"
      ],
      "execution_count": null,
      "outputs": []
    },
    {
      "cell_type": "code",
      "metadata": {
        "id": "NDOF6hum825e"
      },
      "source": [
        "A"
      ],
      "execution_count": null,
      "outputs": []
    },
    {
      "cell_type": "code",
      "metadata": {
        "id": "oTeNNBJt89yF"
      },
      "source": [
        ""
      ],
      "execution_count": null,
      "outputs": []
    },
    {
      "cell_type": "markdown",
      "metadata": {
        "id": "IFwNMy-2ZuBl"
      },
      "source": [
        "# Prutor Plot"
      ]
    },
    {
      "cell_type": "code",
      "metadata": {
        "id": "5m8D5xnuZvOr"
      },
      "source": [
        "#prutor-lang: python\n",
        "import prutorlib as pl\n",
        "import matplotlib as mpl\n",
        "mpl.use('Agg')\n",
        "import matplotlib.pyplot as plt\n",
        "import numpy as np\n",
        "from pylab import rcParams\n",
        "rcParams['figure.figsize'] = 5, 3\n",
        "# figure of the size 5in x 3in\n",
        "\n",
        "x = np.linspace(-1,1,40)\n",
        "y = x**2\n",
        "y1 = x**3\n",
        "\n",
        "plt.plot(x,y, 'r.', label = r'y=x2') \n",
        "plt.plot(x,y1, lw = 3, color = 'g', label = r'y=x3')\n",
        "\n",
        "plt.axhline(0, color='k')\n",
        "plt.axvline(0, color='k')\n",
        "\n",
        "plt.xlim(-1,1)\n",
        "plt.ylim(-1,1)\n",
        "\n",
        "plt.xlabel(r'x', fontsize=20)\n",
        "plt.ylabel(r'y', fontsize=20)\n",
        "\n",
        "plt.legend(loc=4)\n",
        "plt.tight_layout()\n",
        "\n",
        "pl.prutorsaveplot(plt, 'plot2d.pdf')"
      ],
      "execution_count": null,
      "outputs": []
    },
    {
      "cell_type": "markdown",
      "metadata": {
        "id": "UssZpL8sddqi"
      },
      "source": [
        "# MIDSEM"
      ]
    },
    {
      "cell_type": "markdown",
      "metadata": {
        "id": "i0nIDTZNzsbp"
      },
      "source": [
        "## 1"
      ]
    },
    {
      "cell_type": "code",
      "metadata": {
        "id": "HRKctwCcde4V"
      },
      "source": [
        "import numpy as np\n",
        "# #------------Python plot Template (delet if not required)\n",
        "# import prutorlib as pl\n",
        "import matplotlib as mpl\n",
        "mpl.use('Agg')\n",
        "import matplotlib.pyplot as plt\n",
        "\n",
        "from pylab import rcParams\n",
        "rcParams['figure.figsize'] = 5, 3\n",
        "# figure of the size 5in x 3in\n",
        "\n",
        "def funcu(x,y):\n",
        "    return -3*x + y +1\n",
        "\n",
        "def funcv(x,y):\n",
        "    return x**2 + 16*(y**2) - 16 # roll number is 170484\n",
        "\n",
        "def Jacobi(x,y):\n",
        "    Jacob = np.zeros(shape = (2,2))\n",
        "    Jacob[0,0] = -3\n",
        "    Jacob[0,1] = 1\n",
        "    Jacob[1,0] = 2*x\n",
        "    Jacob[1,1] = 32*y\n",
        "    return Jacob\n",
        "    \n",
        "iterations = 0\n",
        "\n",
        "## Initial guesses of a and b by default are not working\n",
        "# a = float(input().strip())\n",
        "# b = float(input().strip())\n",
        "a = 0.1\n",
        "b = -0.7\n",
        "\n",
        "tolerance = 0.001\n",
        "flag = 0\n",
        "\n",
        "newxy = np.zeros(shape=(2,1))\n",
        "oldxy = np.zeros(shape=(2,1))\n",
        "matuv = np.zeros(shape=(2,1))\n",
        "\n",
        "oldxy[0,0] = a #xold\n",
        "oldxy[1,0] = b #yold\n",
        "\n",
        "plottingiter = []\n",
        "plottingerror = []\n",
        "\n",
        "while iterations<100:\n",
        "    iterations +=1\n",
        "    plottingiter.append(iterations)\n",
        "    \n",
        "    Jacob = Jacobi(float(oldxy[0,0]),float(oldxy[1,0]))\n",
        "\n",
        "    uxy = funcu(float(oldxy[0,0]),float(oldxy[1,0]))\n",
        "    vxy = funcv(float(oldxy[0,0]),float(oldxy[1,0]))\n",
        "    \n",
        "    matuv[0,0] = uxy\n",
        "    matuv[1,0] = vxy \n",
        "\n",
        "    newxy = oldxy - np.matmul((np.linalg.inv(Jacob)),matuv)\n",
        "    print(newxy)\n",
        "    \n",
        "    errorx = float((newxy[0,0] - oldxy[0,0])*100/newxy[0,0])\n",
        "    errory = float((newxy[1,0] - oldxy[1,0])*100/newxy[1,0])\n",
        "    errornorm = max(np.abs(errorx),np.abs(errory))\n",
        "    plottingerror.append(errornorm)\n",
        "    if errornorm < tolerance:\n",
        "        flag = 1\n",
        "        print(\"Stopping criteria reached (error < 0.001)\")\n",
        "        break\n",
        "    \n",
        "    oldxy = newxy\n",
        "    \n",
        "if flag == 0:\n",
        "    print(\"Stopping criteria reached, iterations = 100\")\n",
        "\n",
        "print(\"Final solution:\")\n",
        "print(\"x = \" + str(float(newxy[0,0])))\n",
        "print(\"y = \" + str(float(newxy[1,0])))\n",
        "\n",
        "plt.plot(plottingiter,plottingerror, 'r.', label = r'$y=f(x)$') \n",
        "plt.axhline(0, color='k')\n",
        "plt.axvline(0, color='k')\n",
        "# plt.xlim(-1,1)\n",
        "# plt.ylim(-1,1)\n",
        "plt.xlabel(r'$x$', fontsize=20)\n",
        "plt.ylabel(r'$y$', fontsize=20)\n",
        "plt.legend(loc=4)\n",
        "plt.tight_layout()\n",
        "\n"
      ],
      "execution_count": null,
      "outputs": []
    },
    {
      "cell_type": "code",
      "metadata": {
        "id": "Pz_0gNb-dh_8"
      },
      "source": [
        "np.matrix(np.sum(Jacob*matuv,axis = 1)).T"
      ],
      "execution_count": null,
      "outputs": []
    },
    {
      "cell_type": "code",
      "metadata": {
        "id": "a9oKDULhh_Kx"
      },
      "source": [
        "Jacob@Jacob"
      ],
      "execution_count": null,
      "outputs": []
    },
    {
      "cell_type": "code",
      "metadata": {
        "id": "VUCEGGtHiDRB"
      },
      "source": [
        "Jacob*matuv"
      ],
      "execution_count": null,
      "outputs": []
    },
    {
      "cell_type": "code",
      "metadata": {
        "id": "V-brfjfGiLwd"
      },
      "source": [
        "matuv"
      ],
      "execution_count": null,
      "outputs": []
    },
    {
      "cell_type": "code",
      "metadata": {
        "id": "I0CTvGa6iPbu"
      },
      "source": [
        "Jacob**-1"
      ],
      "execution_count": null,
      "outputs": []
    },
    {
      "cell_type": "code",
      "metadata": {
        "id": "p_PmHX0-i8Yn"
      },
      "source": [
        "Jacob*(Jacob**-1)"
      ],
      "execution_count": null,
      "outputs": []
    },
    {
      "cell_type": "code",
      "metadata": {
        "id": "asDiWQLtkW4t"
      },
      "source": [
        "np.linalg.inv(Jacob)*Jacob"
      ],
      "execution_count": null,
      "outputs": []
    },
    {
      "cell_type": "markdown",
      "metadata": {
        "id": "XVo6gkHszpEc"
      },
      "source": [
        "## 2"
      ]
    },
    {
      "cell_type": "code",
      "metadata": {
        "id": "9_sYKBdfknrc"
      },
      "source": [
        "import numpy as np\n",
        "import scipy.linalg as la\n",
        "n = 10\n",
        "a = np.zeros((n,n))\n",
        "\n",
        "print(\"Enter the entries in a single line (separated by space): A\") \n",
        "entries_a = list(map(float, input().split())) \n",
        "\n",
        "print(\"Enter the entries in a single line (separated by space): b\") \n",
        "entries_b = list(map(float, input().split())) \n",
        "\n",
        "a = np.matrix(np.array(entries_a).reshape(n, n))\n",
        "b = np.matrix(np.array(entries_b).reshape(n, 1))\n",
        "## L Matrix\n",
        "l = np.matrix(np.zeros(shape=(n,n)))\n",
        "\n",
        "# ROW INTERCHANGE\n",
        "a[[7,4]] = a[[4,7]] # Roll number is 170484\n",
        "\n",
        "print(\"Modified A matrix is\")\n",
        "print(a)\n",
        "\n",
        "(P, L, U) = la.lu(a)\n",
        "\n",
        "# FORWARD ELIMINATION\n",
        "for i in range(n):\n",
        "    for j in range(i+1, n):\n",
        "        l[j,i] = a[j,i]/a[i,i]\n",
        "        ratio = l[j,i] ## Inserting element into L\n",
        "        for k in range(i,n):\n",
        "            a[j,k] = a[j,k] - ratio * a[i,k]\n",
        "        b[j] = b[j] - ratio * b[i]\n",
        "    l[i,i] = 1 \n",
        "\n",
        "# print(\"L matrix is \")\n",
        "# print(l)\n",
        "\n",
        "print(\"U matrix is \")\n",
        "print(a)\n",
        "\n",
        "\n",
        "\n",
        "print(U)\n",
        "\n"
      ],
      "execution_count": null,
      "outputs": []
    },
    {
      "cell_type": "code",
      "metadata": {
        "id": "bd9mVRGbygOd"
      },
      "source": [
        "import numpy as np\n",
        "n = 10\n",
        "a = np.zeros((n,n))\n",
        "\n",
        "print(\"Enter the entries in a single line (separated by space): A\") \n",
        "entries_a = list(map(float, input().split())) \n",
        "\n",
        "print(\"Enter the entries in a single line (separated by space): b\") \n",
        "entries_b = list(map(float, input().split())) \n",
        "\n",
        "a = np.array(entries_a).reshape(n, n) \n",
        "b = np.array(entries_b).reshape(n, 1) \n",
        "\n",
        "#Row a is 7, Row b is 1\n",
        "a[[0,6]]=a[[6,0]]\n",
        "b[[0,6]]=b[[6,0]]\n",
        "\n",
        "print(\"Modified A =\\n\",a)\n",
        "\n",
        "low = np.zeros((n,n))\n",
        "\n",
        "# FORWARD ELIMINATION\n",
        "for i in range(n):\n",
        "    for j in range(i+1, n):\n",
        "        ratio = a[j][i]/a[i][i]\n",
        "        low[j,i]=ratio\n",
        "        for k in range(n):\n",
        "            a[j][k] = a[j][k] - ratio * a[i][k]\n",
        "        b[j] = b[j] - ratio * b[i]\n",
        "    low[i,i]=1\n",
        "    \n",
        "print(\"\\nL =\\n\",low)\n",
        "print(\"\\nU =\\n\",a)"
      ],
      "execution_count": null,
      "outputs": []
    },
    {
      "cell_type": "code",
      "metadata": {
        "id": "JCbWUjVU7KMA"
      },
      "source": [
        "import numpy as np\n",
        "import scipy.linalg as la\n",
        "n = 10\n",
        "a = np.zeros((n,n))\n",
        "\n",
        "print(\"Enter the entries in a single line (separated by space): A\") \n",
        "entries_a = list(map(float, input().split())) \n",
        "\n",
        "print(\"Enter the entries in a single line (separated by space): b\") \n",
        "entries_b = list(map(float, input().split())) \n",
        "\n",
        "a = np.array(entries_a).reshape(n, n) \n",
        "b = np.array(entries_b).reshape(n, 1) \n",
        "## L Matrix\n",
        "l = np.matrix(np.zeros(shape=(n,n)))\n",
        "\n",
        "# ROW INTERCHANGE\n",
        "a[[7,4]] = a[[4,7]] # Roll number is 170484\n",
        "\n",
        "print(\"Modified A matrix is\")\n",
        "print(a)\n",
        "\n",
        "# FORWARD ELIMINATION\n",
        "for i in range(n):\n",
        "    for j in range(i+1, n):\n",
        "        ratio = a[j][i]/a[i][i]\n",
        "        l[j,i] = ratio ## Inserting element into L\n",
        "        for k in range(n):\n",
        "            a[j][k] = a[j][k] - ratio * a[i][k]\n",
        "        b[j] = b[j] - ratio * b[i]\n",
        "    l[i,i] = 1\n",
        "\n",
        "print(\"L matrix is \")\n",
        "print(l)\n",
        "\n",
        "print(\"U matrix is \")\n",
        "print(a)\n",
        "\n"
      ],
      "execution_count": null,
      "outputs": []
    },
    {
      "cell_type": "markdown",
      "metadata": {
        "id": "C84gXT6keATV"
      },
      "source": [
        "# Newton Interpolation "
      ]
    },
    {
      "cell_type": "code",
      "metadata": {
        "id": "z5-4RTV4eDrg"
      },
      "source": [
        "import numpy as np\n",
        "from sympy import *\n",
        "x = np.array([1,2,4,5]).astype(float)\n",
        "y = np.array([-48,-46,12,92]).astype(float)\n",
        "n = len(y)\n",
        "dd = y.copy()\n",
        "pred_val = 2.2\n",
        "\n",
        "\n",
        "\n",
        "minval = float(np.amin(x))\n",
        "maxval = float(np.amax(x))"
      ],
      "execution_count": null,
      "outputs": []
    },
    {
      "cell_type": "code",
      "metadata": {
        "id": "qaucJ_nTeczb"
      },
      "source": [
        "def newton(x,y,n,dd):\n",
        "    for i in range(1,n):\n",
        "        for j in range(n-1,i-1,-1):\n",
        "            dd[j] = float(dd[j]-dd[j-1])/(float(x[j]-x[j-i]))\n",
        "    return np.array(dd)"
      ],
      "execution_count": null,
      "outputs": []
    },
    {
      "cell_type": "code",
      "metadata": {
        "id": "iVKMVe2QhreA"
      },
      "source": [
        "coeffs = newton(x,y,n,dd)"
      ],
      "execution_count": null,
      "outputs": []
    },
    {
      "cell_type": "code",
      "metadata": {
        "id": "GtLJyk6Dhtb6"
      },
      "source": [
        ""
      ],
      "execution_count": null,
      "outputs": []
    },
    {
      "cell_type": "code",
      "metadata": {
        "id": "phoU3_46kb2p"
      },
      "source": [
        ""
      ],
      "execution_count": null,
      "outputs": []
    },
    {
      "cell_type": "code",
      "metadata": {
        "id": "RZF8b6PFn82l"
      },
      "source": [
        "def calc_poly_newton(coeffs,x,a):    \n",
        "    n = len(x)\n",
        "    poly = coeffs[0]\n",
        "    for i in range(1,n):\n",
        "        v = 1\n",
        "        for j in range(0,i):\n",
        "            v = v*(a - x[j])\n",
        "        # print(v)\n",
        "        poly = poly + coeffs[i]*v\n",
        "    return poly\n"
      ],
      "execution_count": null,
      "outputs": []
    },
    {
      "cell_type": "code",
      "metadata": {
        "id": "Bdi_qCj5pE2e"
      },
      "source": [
        "a = symbols('x')\n",
        "func = expand(calc_poly_newton(coeffs,x,a))\n",
        "print(\"Function is \")\n",
        "print(func)\n",
        "print(\"Function Value at interpolated x is\")\n",
        "print(calc_poly_newton(coeffs,x,pred_val))\n",
        "\n",
        "nintervals = int((maxval-minval)/0.1)+1\n",
        "\n",
        "plot_x = []\n",
        "plot_y = []\n",
        "for j in range(nintervals):\n",
        "    i = minval + j*0.1\n",
        "    plot_x.append(i)\n",
        "    plot_y.append(calc_poly_newton(coeffs,x,i))\n",
        "\n",
        "\n",
        "plt.plot(plot_x,plot_y,label=\"Fitted line\")\n",
        "plt.scatter(x,y,marker='o',color=\"orange\",label= \"Original points\")\n",
        "plt.legend(loc=\"upper left\")\n"
      ],
      "execution_count": null,
      "outputs": []
    },
    {
      "cell_type": "markdown",
      "metadata": {
        "id": "wwz-z9TzvMUb"
      },
      "source": [
        "# Lagrange Interpolation"
      ]
    },
    {
      "cell_type": "markdown",
      "metadata": {
        "id": "F_W2XLf_CzF6"
      },
      "source": [
        "# New Section"
      ]
    },
    {
      "cell_type": "code",
      "metadata": {
        "id": "WQIKcCl3rIJT"
      },
      "source": [
        "import numpy as np\n",
        "from sympy import *\n",
        "import matplotlib.pyplot as plt\n",
        "\n",
        "x = np.array([1,2,3,4,5]).astype(float)\n",
        "y = np.array([-48,32,56,43,92]).astype(float)\n",
        "order = 3\n",
        "pred_val = 2.2\n",
        "choice = \"A\"\n",
        "\n",
        "\n",
        "x = np.array([1,2,4,5]).astype(float)\n",
        "y = np.array([-48,-46,12,92]).astype(float)\n",
        "n = len(y)\n",
        "dd = y.copy()\n",
        "pred_val = 2.2\n",
        "\n",
        "n = order+1\n",
        "minval = float(np.amin(x))\n",
        "maxval = float(np.amax(x))\n",
        "\n",
        "\n",
        "diff_arr = np.abs(x-pred_val)\n",
        "sorted_indices = np.argsort(diff_arr)\n",
        "x = np.array(x)[sorted_indices]\n",
        "y = np.array(y)[sorted_indices]\n"
      ],
      "execution_count": null,
      "outputs": []
    },
    {
      "cell_type": "code",
      "metadata": {
        "id": "isEVj5gcJgPa"
      },
      "source": [
        "def calc_coeff_lagrange(x,y,a,n):\n",
        "    # n = len(x)\n",
        "    poly = 0\n",
        "    for i in range(n):\n",
        "        v=1\n",
        "        for j in range(n):\n",
        "            if j!=i :\n",
        "                v = v*(a-x[j])/(x[i]-x[j])\n",
        "        poly = poly+y[i]*v\n",
        "    # print(poly)\n",
        "    return poly\n",
        "\n",
        "\n",
        "# print(minval,maxval)\n",
        "\n",
        "if pred_val<minval or pred_val>maxval:\n",
        "    print(\"Data point is out of range, terminating the program\")\n",
        "    exit()\n",
        "\n",
        "a = symbols('x')\n",
        "func = expand(calc_coeff_lagrange(x,y,a,n))\n",
        "print(\"Function is \")\n",
        "print(func)\n",
        "print(\"Function Value at interpolated x is\")\n",
        "predicted_value = calc_coeff_lagrange(x,y,pred_val,n)\n",
        "print(predicted_value)\n",
        "\n",
        "nintervals = int((maxval-minval)/0.1)+1\n",
        "\n",
        "plot_x = []\n",
        "plot_y = []\n",
        "for j in range(nintervals):\n",
        "    i = minval + j*0.1\n",
        "    plot_x.append(i)\n",
        "    plot_y.append(calc_coeff_lagrange(x,y,i,n))\n",
        "\n",
        "\n",
        "plt.plot(plot_x,plot_y,label=\"Fitted line\")\n",
        "plt.scatter(x,y,marker='o',color=\"orange\",label= \"Original points\")\n",
        "plt.scatter(pred_val,predicted_value,marker='o',color=\"green\",label= \"Interpolated Point\")\n",
        "plt.legend(loc=\"upper left\")\n",
        "\n",
        "\n",
        "\n",
        "\n",
        "\n",
        "\n",
        "    "
      ],
      "execution_count": null,
      "outputs": []
    },
    {
      "cell_type": "markdown",
      "metadata": {
        "id": "q7L4W7ddC1DD"
      },
      "source": [
        "# Polynomial Regression"
      ]
    },
    {
      "cell_type": "code",
      "metadata": {
        "id": "zVkFTyvJI-pt"
      },
      "source": [
        "import numpy as np\n",
        "x = np.array([0,2,4,8])\n",
        "y = np.array([1,0.7937,0.63,0.3968])\n",
        "n = 1\n",
        "\n",
        "matrix = np.matrix(np.zeros(shape=(n+1,n+1)))\n",
        "B= np.matrix(np.zeros(shape=(n+1,1)))\n",
        "A = np.zeros(shape=(n+1,1))"
      ],
      "execution_count": null,
      "outputs": []
    },
    {
      "cell_type": "code",
      "metadata": {
        "id": "2wdkX3YhnIf6"
      },
      "source": [
        "for i in range(n+1):\n",
        "    for j in range(n+1):\n",
        "        matrix[i,j] = np.sum(x**(i+j))\n",
        "    print(np.dot(x**i,y))\n",
        "    B[i] = np.dot(x**i,y)\n",
        "\n",
        "L = np.matrix(np.zeros(shape=(n+1,n+1)))\n",
        "\n",
        "def GE(A,B,n,L):\n",
        "    ## \"Forward Elimination\"\n",
        "    for k in range(n):\n",
        "        for i in range(k+1,n):\n",
        "            L[i,k] = A[i,k]/A[k,k] \n",
        "                \n",
        "            for j in range(k,n):                    \n",
        "                A[i,j] = A[i,j] - L[i,k]*A[k,j]\n",
        "            B[i] = B[i] - L[i,k]*B[k]\n",
        "        L[k,k] = 1\n",
        "\n",
        "    ## Backward Substitution\n",
        "    X = np.zeros(shape=(n,1))\n",
        "    X[n-1] = B[n-1]/A[n-1,n-1]\n",
        "    for i in range(n-2,-1,-1):\n",
        "        sum_of_ax = 0\n",
        "        for j in range(i+1,n):\n",
        "            sum_of_ax = sum_of_ax + A[i,j]*X[j]\n",
        "        X[i] = (B[i] - sum_of_ax)/A[i,i]\n",
        "    return X,A\n",
        "\n",
        "print(GE(matrix,B,n+1,L))"
      ],
      "execution_count": null,
      "outputs": []
    },
    {
      "cell_type": "markdown",
      "metadata": {
        "id": "ER2p8xjWSgbg"
      },
      "source": [
        "# Integration"
      ]
    },
    {
      "cell_type": "markdown",
      "metadata": {
        "id": "L8Fzi1oGHUZH"
      },
      "source": [
        "## Simpsons 1/3rd"
      ]
    },
    {
      "cell_type": "code",
      "metadata": {
        "id": "wAlTtyDdxY3N"
      },
      "source": [
        "def simpson(f, a, b, n):\n",
        "    h=(b-a)/n\n",
        "    k=0.0\n",
        "    x=a + h\n",
        "    for i in range(1,int(n/2 + 1)):\n",
        "        k += 4*f(x)\n",
        "        x += 2*h\n",
        "\n",
        "    x = a + 2*h\n",
        "    for i in range(1,int(n/2)):\n",
        "        k += 2*f(x)\n",
        "        x += 2*h\n",
        "    return (h/3)*(f(a)+f(b)+k)\n",
        "\n",
        "def function(x): \n",
        "    return 3*x**2\n",
        "\n",
        "print(simpson(function, 0.0, 1.0, 100))"
      ],
      "execution_count": null,
      "outputs": []
    },
    {
      "cell_type": "markdown",
      "metadata": {
        "id": "p7Ns0Z28JTNv"
      },
      "source": [
        "## Trapezoidal"
      ]
    },
    {
      "cell_type": "code",
      "metadata": {
        "id": "zMOXHUCxGo-Z"
      },
      "source": [
        "x = [i for i in range(0,800,50)]\n",
        "yabove = [0 ,0, 0, 0, 0, 300, 300, 300, 175, 150, 125, 125, 125, 125, 125, 0]\n",
        "ybelow = [0 ,50, 100, 175, 200, 150, 150, 200, 300, 375, 400, 400 ,250 ,225 ,150 ,150]\n",
        "n = len(yabove)\n",
        "I_above = (yabove[0]/2 + yabove[n-1]/2 + np.sum(yabove[1:-1]))*h\n",
        "I_below = (ybelow[0]/2 + ybelow[n-1]/2 + np.sum(ybelow[1:-1]))*h\n",
        "print(I_above+I_below)"
      ],
      "execution_count": null,
      "outputs": []
    },
    {
      "cell_type": "markdown",
      "metadata": {
        "id": "BnZA5v4ORlq0"
      },
      "source": [
        "## Simpsons 3/8"
      ]
    },
    {
      "cell_type": "code",
      "metadata": {
        "id": "ZWGO1_1KJko5"
      },
      "source": [
        "x = [i for i in range(0,800,50)]\n",
        "yabove = [0 ,0, 0, 0, 0, 300, 300, 300, 175, 150, 125, 125, 125, 125, 125, 0]\n",
        "ybelow = [0 ,50, 100, 175, 200, 150, 150, 200, 300, 375, 400, 400 ,250 ,225 ,150 ,150]\n",
        "n = len(yabove)"
      ],
      "execution_count": null,
      "outputs": []
    },
    {
      "cell_type": "code",
      "metadata": {
        "id": "pHe6VkguJoHs"
      },
      "source": [
        "h = 50\n",
        "I_above = 0\n",
        "I_below = 0"
      ],
      "execution_count": null,
      "outputs": []
    },
    {
      "cell_type": "code",
      "metadata": {
        "id": "Pph9hK7QSGRL"
      },
      "source": [
        "I_above = (yabove[0] + yabove[n-1] + 3*np.sum(yabove[1::3]) + 3*np.sum(yabove[2::3]) + 2*np.sum(yabove[3:-1:3]))*3*h/8\n",
        "I_below = (ybelow[0] + ybelow[n-1] + 3*np.sum(ybelow[1::3]) + 3*np.sum(ybelow[2::3]) + 2*np.sum(ybelow[3:-1:3]))*3*h/8\n",
        "# for i in range(0,800,50):\n",
        "(I_above+I_below)"
      ],
      "execution_count": null,
      "outputs": []
    },
    {
      "cell_type": "markdown",
      "metadata": {
        "id": "xpskgBKqFBDc"
      },
      "source": [
        "## Romberg"
      ]
    },
    {
      "cell_type": "code",
      "metadata": {
        "id": "iLLkeb5AehGW"
      },
      "source": [
        "function I = trapezoidal(Fun,a,b,N)\n",
        "    h = (b-a)/N;\n",
        "    x = a:h:b;\n",
        "    F = Fun(x); \n",
        "    I =h* (F(1) + F(N+1))/2 + h*sum(F(2:N));\n",
        "endfunction;\n",
        "\n",
        "fx = input('', 's');\n",
        "a = input(''); \n",
        "b = input('');\n",
        "N = input('');\n",
        "f = inline(fx, 'x');\n",
        "Levels = input('');\n",
        "\n",
        "function IR = Romberg(Fun,a,b,Ni,Levels)\n",
        "for i =1: Levels + 1\n",
        "    Nsubinter=Ni*2^(i - 1);\n",
        "    IR(i,1)=trapezoidal(Fun,a,b,Nsubinter);\n",
        "end\n",
        "for j= 2 : Levels + 1\n",
        "    for i=1: (Levels - j +2)\n",
        "        IR(i,j) = (4^(j -1) *IR(i +1,j -1) -IR(i,j -1) )/(4^(j -1) - 1) ;\n",
        "    end\n",
        "end\n",
        "endfunction;\n",
        "\n",
        "IR = Romberg(f,a,b,N,Levels)"
      ],
      "execution_count": null,
      "outputs": []
    },
    {
      "cell_type": "markdown",
      "metadata": {
        "id": "3V8kHk-1NiHM"
      },
      "source": [
        "# ODE "
      ]
    },
    {
      "cell_type": "markdown",
      "metadata": {
        "id": "_t6KttBV99xT"
      },
      "source": [
        "## RK4 and euclidean"
      ]
    },
    {
      "cell_type": "code",
      "metadata": {
        "id": "Z9F23U8I-CXG"
      },
      "source": [
        "import numpy as np\n",
        "def f(x,y):\n",
        "    return - (30/(1-x**2)) + ((2*x)/(1-x**2))*y - y**2\n",
        "    \n",
        "def euler(f,a,b,n,yinit):\n",
        "    h = (b-a)/(n-1)\n",
        "    xs = a + np.arange(n)*h\n",
        "    print(xs)\n",
        "    ys = np.zeros(n)\n",
        "    y = yinit\n",
        "    for j,x in enumerate(xs):\n",
        "        ys[j] = y\n",
        "        y += h*f(x, y)\n",
        "    return xs, ys\n",
        "    \n",
        "def rk4(f,a,b,n,yinit):\n",
        "    h = (b-a)/(n-1)\n",
        "    xs = a + np.arange(n)*h\n",
        "    ys = np.zeros(n)\n",
        "    y = yinit\n",
        "    for j,x in enumerate(xs):\n",
        "        ys[j] = y\n",
        "        k0 = h*f(x, y)\n",
        "        k1 = h*f(x+h/2, y+k0/2)\n",
        "        k2 = h*f(x+h/2, y+k1/2)\n",
        "        k3 = h*f(x+h, y+k2)\n",
        "        y += (k0 + 2*k1 + 2*k2 + k3)/6\n",
        "    return xs, ys\n",
        "    \n",
        "#if name == ' main ':\n",
        "a, b, n, yinit = 0.05, 0.49, 12, 19.53\n",
        "xs1, ys1 = euler(f,a,b,n,yinit); print(ys1)\n",
        "xs2, ys2 = rk4(f,a,b,n,yinit); print(ys2)"
      ],
      "execution_count": null,
      "outputs": []
    },
    {
      "cell_type": "markdown",
      "metadata": {
        "id": "GTXgV1cpfuWX"
      },
      "source": [
        "## Adams bashford"
      ]
    },
    {
      "cell_type": "code",
      "metadata": {
        "id": "6uxS8yMX-D6y"
      },
      "source": [
        "import numpy as np\n",
        "def f(x,y):\n",
        "    return - (30/(1-x**2)) + ((2*x)/(1-x**2))*y - y**2\n",
        "    \n",
        "def euler(f,a,b,n,yinit):\n",
        "    h = (b-a)/(n-1)\n",
        "    xs = a + np.arange(n)*h\n",
        "    # print(xs)\n",
        "    ys = np.zeros(n)\n",
        "    y = yinit\n",
        "    for j,x in enumerate(xs):\n",
        "        ys[j] = y\n",
        "        y += h*f(x, y)\n",
        "    return xs, ys\n",
        "\n",
        "def back_diff(f,a,b,n,yinit,ys1):\n",
        "    h = (b-a)/(n-1)\n",
        "    xs = a + np.arange(n)*h\n",
        "    ys = np.zeros(n)\n",
        "    for j,x in enumerate(xs):\n",
        "        if j-1 < 0:\n",
        "            ys[j] = ys1[j]\n",
        "            y = ys1[j+1]\n",
        "        else:\n",
        "            # print(j)\n",
        "            ys[j] = y\n",
        "            # print(x-h, ys[j-1])\n",
        "            y += h*(1.5*f(x, ys[j]) - 0.5*f(x-h,ys[j-1]))\n",
        "    return xs, ys\n",
        "\n",
        "\n",
        "\n",
        "    \n",
        "#if name == ' main ':\n",
        "a, b, n, yinit = 0.05, 0.49, 12, 19.53\n",
        "xs1, ys1 = euler(f,a,b,n,yinit); print(ys1)\n",
        "xs2, ys2 = back_diff(f,a,b,n,yinit,ys1); print(ys2)"
      ],
      "execution_count": null,
      "outputs": []
    },
    {
      "cell_type": "markdown",
      "metadata": {
        "id": "_FjGYKb1DYWR"
      },
      "source": [
        "## Beam problem Equation - Shooting"
      ]
    },
    {
      "cell_type": "code",
      "metadata": {
        "id": "nTyhMKGbiWtV"
      },
      "source": [
        "L = 4;\n",
        "a = 0.0;    %left boundary coordinate\n",
        "b = L;      %right boundary coordinate\n",
        "h = 0.1;    %length discritization\n",
        "u1 = 0.0;   %initial condition of ODE1 same as the left boundary condition\n",
        "v11 = 0.0;  %1st guess initial condition of ODE2\n",
        "v12 = 2.0;  %2nd gyess initial condition of ODE2\n",
        "y1 = 0.0;   %right bounday condition to be used for tolerance\n",
        "tol = 0.0001;\n",
        "imax = 15;  %maximum number of iteration.\n",
        "\n",
        "function dudx = ODEu(x,u,v)\n",
        "    dudx = v;\n",
        "endfunction;\n",
        "\n",
        "function dvdx = ODEv(x,u,v)\n",
        "    L = 4;\n",
        "    EI = 1.4e7;\n",
        "    q = 10e3;\n",
        "    dvdx = ((1.+v.^2)^(3./2)*1./2*q*(L*x-x.^2))/EI;\n",
        "endfunction; \n",
        "\n",
        "function [x, u, v] = Sys2ODEsRK2(ODE1,ODE2,a,b,h,uINI,vINI)\n",
        "x(1) = a; u(1) = uINI; v(1) = vINI;\n",
        "N = (b - a)/h;\n",
        "for i = 1:N\n",
        "    x(i + 1) = x(i) + h;\n",
        "    Ku1 = ODE1(x(i), u(i), v(i));\n",
        "    Kv1 = ODE2(x(i), u(i), v(i)) ;\n",
        "    Ku2=ODE1(x(i+1),u(i)+Ku1*h,v(i)+Kv1*h);\n",
        "    Kv2=ODE2(x(i+1),u(i)+Ku1*h,v(i)+Kv1*h);\n",
        "    u(i+1)=u(i)+(Ku1+Ku2)*h/2;\n",
        "    v(i+1)=v(i)+(Kv1+Kv2)*h/2;\n",
        "end\n",
        "endfunction;\n",
        "\n",
        "[x, u, v] = Sys2ODEsRK2(@ODEu,@ODEv,a,b,h,u1,v11);\n",
        "n = length(x);\n",
        "u_old = u(n);\n",
        "[x, u, v] = Sys2ODEsRK2(@ODEu,@ODEv,a,b,h,u1,v12);\n",
        "\n",
        "\n",
        "%Secant Method\n",
        "for i = 1:imax+2\n",
        "    vi = v(1) - (u(n)-y1)*(v(1)-v11)/(u(n)-u_old);\n",
        "\n",
        "    Err = abs(y1-u(n));\n",
        "    if Err<tol\n",
        "        break\n",
        "    end\n",
        "    v11 = v(1);\n",
        "    u_old = u(n);\n",
        "    [x, u, v] = Sys2ODEsRK2(@ODEu,@ODEv,a,b,h,u1,vi);\n",
        "end\n",
        "\n",
        "\n",
        "if i > imax\n",
        "    fprintf(\"Solution was not obtained in %i. iterations.\",imax)\n",
        "else\n",
        "    p = figure(1, \"visible\", \"off\");\n",
        "    plot(x,u);\n",
        "    title('Plot of beam deflection');\n",
        "    xlabel('Length (m)');\n",
        "    ylabel('Deflection (m)');\n",
        "    p"
      ],
      "execution_count": null,
      "outputs": []
    },
    {
      "cell_type": "markdown",
      "metadata": {
        "id": "L--Maf5jEEZd"
      },
      "source": [
        "## Heat BVP"
      ]
    },
    {
      "cell_type": "code",
      "metadata": {
        "id": "_asBGYnOEHsT"
      },
      "source": [
        "h = 0.5 ;\n",
        "n = (2/h) ;\n",
        "prompt = 'Please choose the methd for Right B.C.\\n1. Ghost Node \\n 2. Backward Difference - ' ;\n",
        "method = input(prompt) ;\n",
        "\n",
        "x = 0:h:2 ;\n",
        "l = zeros(1 , n) ;\n",
        "d = zeros(1 , n) ;\n",
        "u = zeros(1 , n) ;\n",
        "b = zeros(1 , n) ;\n",
        "\n",
        "for i = 1:n-1\n",
        "    l(i) = (1/(h*h)) + ((x(i+1) + 3)/(2*(x(i+1) + 1)*h)) ;\n",
        "    d(i) = (-2/(h*h)) + ((x(i+1) + 3)/((x(i+1)+1)*(x(i+1)+1))) ;\n",
        "    u(i) = (1/(h*h)) - (x(i+1) + 3) / (x(i+1) + 1) ;\n",
        "    b(i) = 2*(x(i+1) + 1)+ 3*((x(i+1) + 3) / ((x(i+1) + 1)*(x(i+1) + 1))) ;\n",
        "end\n",
        "\n",
        "b(1) = b(1) + (-5 * l(1)) ;\n",
        "l(1) = 0 ;\n",
        "i = n ;\n",
        "if(method == 1)\n",
        "    \n",
        "    l(i) = (1/(h*h)) + ((x(i+1) + 3)/(2*(x(i+1) + 1)*h)) ;\n",
        "    d(i) = (-2/(h*h)) + ((x(i+1) + 3)/((x(i+1)+1)*(x(i+1)+1)))   ;\n",
        "    u(i) = (1/(h*h)) - (x(i+1) + 3) / (x(i+1) + 1) ;\n",
        "    l(i) = l(i) + u(i) ;\n",
        "    u(i) = 0 ;\n",
        "    b(i) = 2*(x(i+1) + 1)+ 3*((x(i+1) + 3) / ((x(i+1) + 1)*(x(i+1) + 1))) ;\n",
        "end\n",
        "if(method == 2)\n",
        "    i = n-1 ;\n",
        "    l(i) = ((2/(3*h*h)) + (2/(3*h))*((x(i+1) + 3)/(x(i+1) + 1))) ;\n",
        "    d(i) = ((x(i+1) + 3)/((x(i+1)+1)*(x(i+1)+1))) - (2/(3*h*h)) - ((2/(3*h))*((x(i+1) + 3)/(x(i+1) + 1))) ;\n",
        "    n = n-1 ;\n",
        "end\n",
        "\n",
        "alpha = zeros(1 , n);\n",
        "beta = zeros(1 , n);\n",
        "alpha(1) = d(1);\n",
        "beta(1) = b(1) ;\n",
        "\n",
        "for i = 2:n\n",
        "    alpha(i) = d(i)- ((l(i)*u(i-1))/alpha(i-1)) ;\n",
        "end\n",
        "for i = 2:n\n",
        "    beta(i) = b(i)- ((l(i)*beta(i-1))/alpha(i-1)) ;\n",
        "end\n",
        "\n",
        "f = zeros(1 , n + 1);\n",
        "f(n+1) = beta(n)/alpha(n) ;\n",
        "for i = n-1:-1:1\n",
        "    f(i+1) = (beta(i)-  (u(i)*f(i+2)))/alpha(i) ;\n",
        "end\n",
        "f(1) = 5 ;\n",
        "if(method == 2)\n",
        "    f(n+2) = (4*f(n+1) - f(n)) / 3 ;\n",
        "    n = n+2 ;\n",
        "end\n",
        "if(method == 1)\n",
        "    n = n+1 ;\n",
        "end\n",
        "    p = figure(1, \"visible\", \"off\");\n",
        "    plot(x , f , 'r-*');\n",
        "    title('Plot of beam deflection');\n",
        "    xlabel('Length (m)');\n",
        "    ylabel('Deflection (m)');\n",
        "    prutorsaveplot(p, \"myplot1.pdf\");"
      ],
      "execution_count": null,
      "outputs": []
    },
    {
      "cell_type": "markdown",
      "metadata": {
        "id": "db4lq9ogdh52"
      },
      "source": [
        "## TEST"
      ]
    },
    {
      "cell_type": "markdown",
      "metadata": {
        "id": "GOM99utVsava"
      },
      "source": [
        "Orthogonal\n"
      ]
    },
    {
      "cell_type": "code",
      "metadata": {
        "id": "Si1Z_mIzdjnv"
      },
      "source": [
        "from scipy.linalg import orth\n",
        "import numpy as np\n",
        "A = np.matrix('[3,8;4,19]')\n",
        "\n",
        "np.linalg.qr(A)"
      ],
      "execution_count": null,
      "outputs": []
    },
    {
      "cell_type": "markdown",
      "metadata": {
        "id": "q5fiBdHLsh0i"
      },
      "source": [
        "Gauss Quadrature"
      ]
    },
    {
      "cell_type": "code",
      "metadata": {
        "id": "82mZsshHdvKU"
      },
      "source": [
        "from scipy import integrate\n",
        "import numpy as np\n",
        "f = lambda x: x - np.exp(-0.5*x)*np.sin(0.5*x)\n",
        "integrate.quadrature(f, -2, 3,maxiter=4)"
      ],
      "execution_count": null,
      "outputs": []
    },
    {
      "cell_type": "code",
      "metadata": {
        "id": "1_1SmfooPAKY"
      },
      "source": [
        "from numpy import linalg as LA"
      ],
      "execution_count": null,
      "outputs": []
    },
    {
      "cell_type": "markdown",
      "metadata": {
        "id": "7iePe9rUD24u"
      },
      "source": [
        "# PDE"
      ]
    },
    {
      "cell_type": "markdown",
      "metadata": {
        "id": "Hc0JEKb2D680"
      },
      "source": [
        "## FTCS"
      ]
    },
    {
      "cell_type": "code",
      "metadata": {
        "id": "3pmVsp8DD2ir"
      },
      "source": [
        "# import prutorlib as pl\n",
        "from mpl_toolkits import mplot3d\n",
        "import matplotlib as mpl\n",
        "# mpl.use('Agg')\n",
        "import matplotlib.pyplot as plt\n",
        "from matplotlib import cm\n",
        "import numpy as np\n",
        "from numpy import linalg as LA\n",
        "import math\n",
        "from pylab import rcParams\n",
        "\n",
        "L = 1.0\n",
        "a = 1.0\n",
        "T = 0.1\n",
        "Nx = 10\n",
        "Nt = 20\n",
        "x = np.linspace(0, L, Nx+1)    \n",
        "dx = x[1] - x[0]\n",
        "t = np.linspace(0, T, Nt+1)    \n",
        "dt = t[1] - t[0]\n",
        "F = a*dt/dx**2              #Should be less than 0.5\n",
        "u   = np.zeros(Nx+1)           # unknown u at new time level\n",
        "u_1 = np.zeros(Nx+1)           # u at the previous time level\n",
        "ue = np.zeros(Nx+1)         #used for true solution\n",
        "error = np.zeros(Nx+1)\n",
        "errmax = np.zeros(Nt+1)\n",
        "phi = np.zeros((Nx+1, Nt+1))\n",
        "\n",
        "# Set initial condition u(x,0) = I(x)\n",
        "for i in range(0, Nx+1):\n",
        "    u_1[i] = math.sin((math.pi)*x[i])\n",
        "\n",
        "for n in range(1, Nt+1):\n",
        "    # Compute u at inner mesh points\n",
        "    for i in range(1, Nx):\n",
        "        u[i] = u_1[i] + F*(u_1[i-1] - 2*u_1[i] + u_1[i+1])\n",
        "        ue[i] = math.exp(-(math.pi)*(math.pi)*t[n])*math.sin(math.pi*(i)*dx)\n",
        "        error[i] = ue[i]-u[i]\n",
        "        phi[i,n] = u[i]\n",
        "    # Insert boundary conditions\n",
        "    u[0] = 0;  u[Nx] = 0\n",
        "\n",
        "    # Update u_1 before next step\n",
        "    u_1[:]= u\n",
        "    errmax[n] = LA.norm(u, np.inf)\n",
        "#Python Plot\n",
        "\n",
        "rcParams['figure.figsize'] = 5, 3\n",
        "# figure of the size 5in x 3in\n",
        "\n",
        "plt.figure()\n",
        "plt.plot(x,u, '+r',label = r'FTCS solution') \n",
        "plt.plot(x,ue, label = r'Analytic solution') \n",
        "plt.xlabel(r'distance', fontsize=10)\n",
        "plt.ylabel(r'function', fontsize=10)\n",
        "# pl.prutorsaveplot(plt, 'plot1.pdf')\n",
        "# plt.show()\n",
        "\n",
        "\n",
        "plt.figure()\n",
        "plt.plot(t,errmax) \n",
        "plt.xlabel(r'time', fontsize=10)\n",
        "plt.ylabel(r'maxerror', fontsize=10)\n",
        "# pl.prutorsaveplot(plt, 'plot2.pdf')\n",
        "# plt.show()\n",
        "\n",
        "dist, time = np.meshgrid(x, t) # no idea why to do that\n",
        "fig = plt.figure()\n",
        "ax = fig.gca(projection='3d')\n",
        "ax.plot_surface(dist, time, np.transpose(phi),cmap=cm.jet, linewidth=0.1)\n",
        "plt.show()\n",
        "# pl.prutorsaveplot(plt, 'plot3.pdf')\n",
        "print(phi)"
      ],
      "execution_count": null,
      "outputs": []
    },
    {
      "cell_type": "markdown",
      "metadata": {
        "id": "o00Mn_PoGtA6"
      },
      "source": [
        "## Richardson"
      ]
    },
    {
      "cell_type": "code",
      "metadata": {
        "id": "WUN0EPKysvTj"
      },
      "source": [
        "# import prutorlib as pl\n",
        "from mpl_toolkits import mplot3d\n",
        "import matplotlib as mpl\n",
        "# mpl.use('Agg')\n",
        "import matplotlib.pyplot as plt\n",
        "from matplotlib import cm\n",
        "import numpy as np\n",
        "from numpy import linalg as LA\n",
        "import math\n",
        "from pylab import rcParams\n",
        "\n",
        "L = 1.0\n",
        "a = 1.0\n",
        "T = 0.1\n",
        "Nx = 10\n",
        "Nt = 20\n",
        "x = np.linspace(0, L, Nx+1)    \n",
        "dx = x[1] - x[0]\n",
        "t = np.linspace(0, T, Nt+1)    \n",
        "dt = t[1] - t[0]\n",
        "F = a*dt/dx**2              #Should be less than 0.5\n",
        "u   = np.zeros(Nx+1)           # unknown u at new time level\n",
        "u_1 = np.zeros(Nx+1)           # u at the previous time level\n",
        "u_2 = np.zeros(Nx+1)  \n",
        "ue = np.zeros(Nx+1)         #used for true solution\n",
        "error = np.zeros(Nx+1)\n",
        "errmax = np.zeros(Nt+1)\n",
        "phi = np.zeros((Nx+1, Nt+1))\n",
        "\n",
        "# Set initial condition u(x,0) = I(x)\n",
        "for i in range(0, Nx+1):\n",
        "    u_2[i] = math.sin((math.pi)*x[i])\n",
        "\n",
        "for n in range(1, Nt+1):\n",
        "    # Compute u at inner mesh points\n",
        "    if n == 1:\n",
        "        for i in range(1,Nx):\n",
        "            u_1[i] = u_2[i] + F*(u_2[i-1] - 2*u_2[i] + u_2[i+1])\n",
        "    for i in range(1, Nx):\n",
        "        u[i] = u_2[i] + 2*F*(u_1[i-1] - 2*u_1[i] + u_1[i+1])\n",
        "        ue[i] = math.exp(-(math.pi)*(math.pi)*t[n])*math.sin(math.pi*(i)*dx)\n",
        "        error[i] = ue[i]-u[i]\n",
        "        phi[i,n] = u[i]\n",
        "    # Insert boundary conditions\n",
        "    u[0] = 0;  u[Nx] = 0\n",
        "\n",
        "    # Update u_1 before next step\n",
        "    u_2[:]=u_1\n",
        "    u_1[:]= u\n",
        "    errmax[n] = LA.norm(u, np.inf)\n",
        "#Python Plot\n",
        "\n",
        "rcParams['figure.figsize'] = 2, 1\n",
        "# figure of the size 5in x 3in\n",
        "\n",
        "plt.figure()\n",
        "plt.plot(x,u, '+r',label = r'FTCS solution') \n",
        "plt.plot(x,ue, label = r'Analytic solution') \n",
        "plt.xlabel(r'distance', fontsize=10)\n",
        "plt.ylabel(r'function', fontsize=10)\n",
        "# pl.prutorsaveplot(plt, 'plot1.pdf')\n",
        "# plt.show()\n",
        "\n",
        "\n",
        "plt.figure()\n",
        "plt.plot(t,errmax) \n",
        "plt.xlabel(r'time', fontsize=10)\n",
        "plt.ylabel(r'maxerror', fontsize=10)\n",
        "# pl.prutorsaveplot(plt, 'plot2.pdf')\n",
        "# plt.show()\n",
        "\n",
        "dist, time = np.meshgrid(x, t) # no idea why to do that\n",
        "fig = plt.figure()\n",
        "ax = fig.gca(projection='3d')\n",
        "ax.plot_surface(dist, time, np.transpose(phi),cmap=cm.jet, linewidth=0.1)\n",
        "# plt.show()\n",
        "# pl.prutorsaveplot(plt, 'plot3.pdf')\n",
        "print(phi)"
      ],
      "execution_count": null,
      "outputs": []
    },
    {
      "cell_type": "markdown",
      "metadata": {
        "id": "uBi5LrSBLep6"
      },
      "source": [
        "## Dufort Frankel"
      ]
    },
    {
      "cell_type": "code",
      "metadata": {
        "id": "geBVTXXLKKww"
      },
      "source": [
        "# import prutorlib as pl\n",
        "from mpl_toolkits import mplot3d\n",
        "import matplotlib as mpl\n",
        "# mpl.use('Agg')\n",
        "import matplotlib.pyplot as plt\n",
        "from matplotlib import cm\n",
        "import numpy as np\n",
        "from numpy import linalg as LA\n",
        "import math\n",
        "from pylab import rcParams\n",
        "\n",
        "L = 1.0\n",
        "a = 1.0\n",
        "T = 0.1\n",
        "Nx = 10\n",
        "Nt = 20\n",
        "x = np.linspace(0, L, Nx+1)    \n",
        "dx = x[1] - x[0]\n",
        "t = np.linspace(0, T, Nt+1)    \n",
        "dt = t[1] - t[0]\n",
        "F = a*dt/dx**2              #Should be less than 0.5\n",
        "u   = np.zeros(Nx+1)           # unknown u at new time level\n",
        "u_1 = np.zeros(Nx+1)           # u at the previous time level\n",
        "u_2 = np.zeros(Nx+1)  \n",
        "ue = np.zeros(Nx+1)         #used for true solution\n",
        "error = np.zeros(Nx+1)\n",
        "errmax = np.zeros(Nt+1)\n",
        "phi = np.zeros((Nx+1, Nt+1))\n",
        "\n",
        "# Set initial condition u(x,0) = I(x)\n",
        "for i in range(0, Nx+1):\n",
        "    u_2[i] = math.sin((math.pi)*x[i])\n",
        "\n",
        "for n in range(1, Nt+1):\n",
        "    # Compute u at inner mesh points\n",
        "    if n == 1:\n",
        "        for i in range(1,Nx):\n",
        "            u_1[i] = u_2[i] + F*(u_2[i-1] - 2*u_2[i] + u_2[i+1])\n",
        "    for i in range(1, Nx):\n",
        "        u[i] = ((1-2*F)*u_2[i] + 2*F*(u_1[i-1] + u_1[i+1]))/(1+2*F)\n",
        "        ue[i] = math.exp(-(math.pi)*(math.pi)*t[n])*math.sin(math.pi*(i)*dx)\n",
        "        error[i] = ue[i]-u[i]\n",
        "        phi[i,n] = u[i]\n",
        "    # Insert boundary conditions\n",
        "    u[0] = 0;  u[Nx] = 0\n",
        "\n",
        "    # Update u_1 before next step\n",
        "    u_2[:]=u_1\n",
        "    u_1[:]= u\n",
        "    errmax[n] = LA.norm(u, np.inf)\n",
        "#Python Plot\n",
        "\n",
        "rcParams['figure.figsize'] = 2, 1\n",
        "# figure of the size 5in x 3in\n",
        "\n",
        "plt.figure()\n",
        "plt.plot(x,u, '+r',label = r'FTCS solution') \n",
        "plt.plot(x,ue, label = r'Analytic solution') \n",
        "plt.xlabel(r'distance', fontsize=10)\n",
        "plt.ylabel(r'function', fontsize=10)\n",
        "# pl.prutorsaveplot(plt, 'plot1.pdf')\n",
        "# plt.show()\n",
        "\n",
        "\n",
        "plt.figure()\n",
        "plt.plot(t,errmax) \n",
        "plt.xlabel(r'time', fontsize=10)\n",
        "plt.ylabel(r'maxerror', fontsize=10)\n",
        "# pl.prutorsaveplot(plt, 'plot2.pdf')\n",
        "# plt.show()\n",
        "\n",
        "dist, time = np.meshgrid(x, t) # no idea why to do that\n",
        "fig = plt.figure()\n",
        "ax = fig.gca(projection='3d')\n",
        "ax.plot_surface(dist, time, np.transpose(phi),cmap=cm.jet, linewidth=0.1)\n",
        "# plt.show()\n",
        "# pl.prutorsaveplot(plt, 'plot3.pdf')\n",
        "print(phi)"
      ],
      "execution_count": null,
      "outputs": []
    },
    {
      "cell_type": "code",
      "metadata": {
        "id": "y3Th17r_MvYn"
      },
      "source": [
        ""
      ],
      "execution_count": null,
      "outputs": []
    }
  ]
}